{
  "nbformat": 4,
  "nbformat_minor": 0,
  "metadata": {
    "colab": {
      "name": "Price prediction(updated).ipynb",
      "provenance": [],
      "collapsed_sections": []
    },
    "kernelspec": {
      "name": "python3",
      "display_name": "Python 3"
    },
    "language_info": {
      "name": "python"
    }
  },
  "cells": [
    {
      "cell_type": "markdown",
      "source": [
        "# **1. Problem Statement** : Develop a Price Prediction Model\n",
        "### **Data Overview** : \n",
        "There are two files `train.csv` and `test.csv`. Each row of the train.tsv file has the following attributes/features that lists details about a particular product.\n",
        "\n",
        "*   id: the id of the listing\n",
        "*   name: the title of the listing\n",
        "*   item_condition_id: the condition of the items provided by the seller\n",
        "*   category_name: category of the listing\n",
        "*   brand_name: brand of the listing\n",
        "*   price: the price (USD) that the item was sold for\n",
        "*   shipping: 1 if shipping fee is paid by seller and 0 by buyer\n",
        "*   item_description: the full description of the listing\n",
        "*   seller_id: the seller ID of the listing\n",
        "\n",
        "**Error metric**: RMSLE (Root Mean Square Logarithmic Error)\n",
        "\n",
        "**Input Features** :  id, name, item_condition_id, category_name, brand_name, shipping, seller_id, item_description\n",
        "\n",
        "**Target Variable** : price\n",
        "\n",
        "- For a given item name, here the task is to suggest the price of that item by analysing its different features like category, name, brand name, item description etc. \n",
        "- The given problem is a **Regression problem** as it will return the price of an item which is a real-valued value.\n",
        "\n",
        "\n",
        "\n",
        "\n",
        "\n",
        "\n",
        "\n",
        "\n"
      ],
      "metadata": {
        "id": "hcWM6PEjn8oi"
      }
    },
    {
      "cell_type": "code",
      "execution_count": 426,
      "metadata": {
        "id": "cFXT0N0LdIro"
      },
      "outputs": [],
      "source": [
        "# Importing the necessary library \n",
        "import numpy as np\n",
        "import pandas as pd\n",
        "import matplotlib.pyplot as plt\n",
        "import seaborn as sns\n",
        "\n",
        "from collections import Counter\n",
        "\n",
        "from tqdm import tqdm\n",
        "from sklearn.preprocessing import normalize\n",
        "from sklearn.feature_extraction.text import CountVectorizer\n"
      ]
    },
    {
      "cell_type": "code",
      "source": [
        "# loading the files\n",
        "train_data = pd.read_csv(\"/content/drive/MyDrive/mercari_train.csv\")\n",
        "test_data = pd.read_csv(\"/content/drive/MyDrive/mercari_test.csv\")"
      ],
      "metadata": {
        "id": "m8Kx40CAhzft"
      },
      "execution_count": 427,
      "outputs": []
    },
    {
      "cell_type": "code",
      "source": [
        ""
      ],
      "metadata": {
        "id": "kEXHmZ_8wp20"
      },
      "execution_count": 427,
      "outputs": []
    },
    {
      "cell_type": "markdown",
      "source": [
        "# **2. Data Overview**"
      ],
      "metadata": {
        "id": "Cb9c7zZcuxf6"
      }
    },
    {
      "cell_type": "code",
      "source": [
        "print('Shape of the training data:', train_data.shape)"
      ],
      "metadata": {
        "id": "bwGoV985iEWm",
        "colab": {
          "base_uri": "https://localhost:8080/"
        },
        "outputId": "54192e3f-cf97-42e9-a95a-46723dfa937f"
      },
      "execution_count": 428,
      "outputs": [
        {
          "output_type": "stream",
          "name": "stdout",
          "text": [
            "Shape of the training data: (68400, 9)\n"
          ]
        }
      ]
    },
    {
      "cell_type": "code",
      "source": [
        "print('Shape of the testing data:', test_data.shape)"
      ],
      "metadata": {
        "id": "XtB9OWpq1b9T",
        "colab": {
          "base_uri": "https://localhost:8080/"
        },
        "outputId": "dd6dc6d2-541b-4a7e-ed39-3e77727f431d"
      },
      "execution_count": 429,
      "outputs": [
        {
          "output_type": "stream",
          "name": "stdout",
          "text": [
            "Shape of the testing data: (31789, 8)\n"
          ]
        }
      ]
    },
    {
      "cell_type": "markdown",
      "source": [
        "- train.csv has 68400 rows \n",
        "- test.csv has 31789 rows"
      ],
      "metadata": {
        "id": "JsEIPVc9t3D8"
      }
    },
    {
      "cell_type": "code",
      "source": [
        "train_data.head()"
      ],
      "metadata": {
        "id": "ffVKjbamiNG4",
        "colab": {
          "base_uri": "https://localhost:8080/",
          "height": 206
        },
        "outputId": "46432160-90d1-47a4-83fe-1bebd41b3c0b"
      },
      "execution_count": 430,
      "outputs": [
        {
          "output_type": "execute_result",
          "data": {
            "text/plain": [
              "   id                                      name  item_condition_id  \\\n",
              "0  17  Hold Alyssa Frye Harness boots 12R, Sz 7                  3   \n",
              "1  19                      Steve Madden booties                  3   \n",
              "2  42                          BCBG Tan Booties                  1   \n",
              "3  45          NWT Sorel Caribou boots size 8.5                  1   \n",
              "4  58      NIB Hunter Tiffany Mint Boots Size 5                  1   \n",
              "\n",
              "       category_name    brand_name  price  shipping   seller_id  \\\n",
              "0  Women/Shoes/Boots          Frye     79         1   211140753   \n",
              "1  Women/Shoes/Boots  Steve Madden     31         0  3874531266   \n",
              "2  Women/Shoes/Boots           NaN     48         0  8341537216   \n",
              "3  Women/Shoes/Boots           NaN     85         0  4040379892   \n",
              "4  Women/Shoes/Boots        Hunter    200         0    19216599   \n",
              "\n",
              "                                    item_description  \n",
              "0  Good used condition Women's Fyre harness boots...  \n",
              "1  The brand is actually \"Steven\" by Steve Madden...  \n",
              "2               Brand new! Does not include the box.  \n",
              "3                               New in box. Size 8.5  \n",
              "4  Brand new never worn only flaw is as you can s...  "
            ],
            "text/html": [
              "\n",
              "  <div id=\"df-da784bc1-fb61-4998-9d5b-fc194906f145\">\n",
              "    <div class=\"colab-df-container\">\n",
              "      <div>\n",
              "<style scoped>\n",
              "    .dataframe tbody tr th:only-of-type {\n",
              "        vertical-align: middle;\n",
              "    }\n",
              "\n",
              "    .dataframe tbody tr th {\n",
              "        vertical-align: top;\n",
              "    }\n",
              "\n",
              "    .dataframe thead th {\n",
              "        text-align: right;\n",
              "    }\n",
              "</style>\n",
              "<table border=\"1\" class=\"dataframe\">\n",
              "  <thead>\n",
              "    <tr style=\"text-align: right;\">\n",
              "      <th></th>\n",
              "      <th>id</th>\n",
              "      <th>name</th>\n",
              "      <th>item_condition_id</th>\n",
              "      <th>category_name</th>\n",
              "      <th>brand_name</th>\n",
              "      <th>price</th>\n",
              "      <th>shipping</th>\n",
              "      <th>seller_id</th>\n",
              "      <th>item_description</th>\n",
              "    </tr>\n",
              "  </thead>\n",
              "  <tbody>\n",
              "    <tr>\n",
              "      <th>0</th>\n",
              "      <td>17</td>\n",
              "      <td>Hold Alyssa Frye Harness boots 12R, Sz 7</td>\n",
              "      <td>3</td>\n",
              "      <td>Women/Shoes/Boots</td>\n",
              "      <td>Frye</td>\n",
              "      <td>79</td>\n",
              "      <td>1</td>\n",
              "      <td>211140753</td>\n",
              "      <td>Good used condition Women's Fyre harness boots...</td>\n",
              "    </tr>\n",
              "    <tr>\n",
              "      <th>1</th>\n",
              "      <td>19</td>\n",
              "      <td>Steve Madden booties</td>\n",
              "      <td>3</td>\n",
              "      <td>Women/Shoes/Boots</td>\n",
              "      <td>Steve Madden</td>\n",
              "      <td>31</td>\n",
              "      <td>0</td>\n",
              "      <td>3874531266</td>\n",
              "      <td>The brand is actually \"Steven\" by Steve Madden...</td>\n",
              "    </tr>\n",
              "    <tr>\n",
              "      <th>2</th>\n",
              "      <td>42</td>\n",
              "      <td>BCBG Tan Booties</td>\n",
              "      <td>1</td>\n",
              "      <td>Women/Shoes/Boots</td>\n",
              "      <td>NaN</td>\n",
              "      <td>48</td>\n",
              "      <td>0</td>\n",
              "      <td>8341537216</td>\n",
              "      <td>Brand new! Does not include the box.</td>\n",
              "    </tr>\n",
              "    <tr>\n",
              "      <th>3</th>\n",
              "      <td>45</td>\n",
              "      <td>NWT Sorel Caribou boots size 8.5</td>\n",
              "      <td>1</td>\n",
              "      <td>Women/Shoes/Boots</td>\n",
              "      <td>NaN</td>\n",
              "      <td>85</td>\n",
              "      <td>0</td>\n",
              "      <td>4040379892</td>\n",
              "      <td>New in box. Size 8.5</td>\n",
              "    </tr>\n",
              "    <tr>\n",
              "      <th>4</th>\n",
              "      <td>58</td>\n",
              "      <td>NIB Hunter Tiffany Mint Boots Size 5</td>\n",
              "      <td>1</td>\n",
              "      <td>Women/Shoes/Boots</td>\n",
              "      <td>Hunter</td>\n",
              "      <td>200</td>\n",
              "      <td>0</td>\n",
              "      <td>19216599</td>\n",
              "      <td>Brand new never worn only flaw is as you can s...</td>\n",
              "    </tr>\n",
              "  </tbody>\n",
              "</table>\n",
              "</div>\n",
              "      <button class=\"colab-df-convert\" onclick=\"convertToInteractive('df-da784bc1-fb61-4998-9d5b-fc194906f145')\"\n",
              "              title=\"Convert this dataframe to an interactive table.\"\n",
              "              style=\"display:none;\">\n",
              "        \n",
              "  <svg xmlns=\"http://www.w3.org/2000/svg\" height=\"24px\"viewBox=\"0 0 24 24\"\n",
              "       width=\"24px\">\n",
              "    <path d=\"M0 0h24v24H0V0z\" fill=\"none\"/>\n",
              "    <path d=\"M18.56 5.44l.94 2.06.94-2.06 2.06-.94-2.06-.94-.94-2.06-.94 2.06-2.06.94zm-11 1L8.5 8.5l.94-2.06 2.06-.94-2.06-.94L8.5 2.5l-.94 2.06-2.06.94zm10 10l.94 2.06.94-2.06 2.06-.94-2.06-.94-.94-2.06-.94 2.06-2.06.94z\"/><path d=\"M17.41 7.96l-1.37-1.37c-.4-.4-.92-.59-1.43-.59-.52 0-1.04.2-1.43.59L10.3 9.45l-7.72 7.72c-.78.78-.78 2.05 0 2.83L4 21.41c.39.39.9.59 1.41.59.51 0 1.02-.2 1.41-.59l7.78-7.78 2.81-2.81c.8-.78.8-2.07 0-2.86zM5.41 20L4 18.59l7.72-7.72 1.47 1.35L5.41 20z\"/>\n",
              "  </svg>\n",
              "      </button>\n",
              "      \n",
              "  <style>\n",
              "    .colab-df-container {\n",
              "      display:flex;\n",
              "      flex-wrap:wrap;\n",
              "      gap: 12px;\n",
              "    }\n",
              "\n",
              "    .colab-df-convert {\n",
              "      background-color: #E8F0FE;\n",
              "      border: none;\n",
              "      border-radius: 50%;\n",
              "      cursor: pointer;\n",
              "      display: none;\n",
              "      fill: #1967D2;\n",
              "      height: 32px;\n",
              "      padding: 0 0 0 0;\n",
              "      width: 32px;\n",
              "    }\n",
              "\n",
              "    .colab-df-convert:hover {\n",
              "      background-color: #E2EBFA;\n",
              "      box-shadow: 0px 1px 2px rgba(60, 64, 67, 0.3), 0px 1px 3px 1px rgba(60, 64, 67, 0.15);\n",
              "      fill: #174EA6;\n",
              "    }\n",
              "\n",
              "    [theme=dark] .colab-df-convert {\n",
              "      background-color: #3B4455;\n",
              "      fill: #D2E3FC;\n",
              "    }\n",
              "\n",
              "    [theme=dark] .colab-df-convert:hover {\n",
              "      background-color: #434B5C;\n",
              "      box-shadow: 0px 1px 3px 1px rgba(0, 0, 0, 0.15);\n",
              "      filter: drop-shadow(0px 1px 2px rgba(0, 0, 0, 0.3));\n",
              "      fill: #FFFFFF;\n",
              "    }\n",
              "  </style>\n",
              "\n",
              "      <script>\n",
              "        const buttonEl =\n",
              "          document.querySelector('#df-da784bc1-fb61-4998-9d5b-fc194906f145 button.colab-df-convert');\n",
              "        buttonEl.style.display =\n",
              "          google.colab.kernel.accessAllowed ? 'block' : 'none';\n",
              "\n",
              "        async function convertToInteractive(key) {\n",
              "          const element = document.querySelector('#df-da784bc1-fb61-4998-9d5b-fc194906f145');\n",
              "          const dataTable =\n",
              "            await google.colab.kernel.invokeFunction('convertToInteractive',\n",
              "                                                     [key], {});\n",
              "          if (!dataTable) return;\n",
              "\n",
              "          const docLinkHtml = 'Like what you see? Visit the ' +\n",
              "            '<a target=\"_blank\" href=https://colab.research.google.com/notebooks/data_table.ipynb>data table notebook</a>'\n",
              "            + ' to learn more about interactive tables.';\n",
              "          element.innerHTML = '';\n",
              "          dataTable['output_type'] = 'display_data';\n",
              "          await google.colab.output.renderOutput(dataTable, element);\n",
              "          const docLink = document.createElement('div');\n",
              "          docLink.innerHTML = docLinkHtml;\n",
              "          element.appendChild(docLink);\n",
              "        }\n",
              "      </script>\n",
              "    </div>\n",
              "  </div>\n",
              "  "
            ]
          },
          "metadata": {},
          "execution_count": 430
        }
      ]
    },
    {
      "cell_type": "code",
      "source": [
        "test_data.head()"
      ],
      "metadata": {
        "id": "8N5Qn1AD1n6G",
        "colab": {
          "base_uri": "https://localhost:8080/",
          "height": 206
        },
        "outputId": "1319da0f-2394-466e-fde8-0570a3998fa6"
      },
      "execution_count": 431,
      "outputs": [
        {
          "output_type": "execute_result",
          "data": {
            "text/plain": [
              "    id                              name  item_condition_id  \\\n",
              "0   46                      Corral boots                  2   \n",
              "1   88  Vince Camuto Riding boots size 6                  2   \n",
              "2  212               Brand new UGG boots                  1   \n",
              "3  289        LL Bean Boots 8\" Red sz 7M                  3   \n",
              "4  299             Black UGGS cargo boot                  3   \n",
              "\n",
              "       category_name     brand_name  shipping   seller_id  \\\n",
              "0  Women/Shoes/Boots            NaN         0  2261402465   \n",
              "1  Women/Shoes/Boots   Vince Camuto         0  2021876312   \n",
              "2  Women/Shoes/Boots  UGG Australia         0  5803720303   \n",
              "3  Women/Shoes/Boots      L.L. Bean         0  1065939786   \n",
              "4  Women/Shoes/Boots  UGG Australia         1   479394728   \n",
              "\n",
              "                                    item_description  \n",
              "0    Corral boots in excellent condition barely used  \n",
              "1  super cute brown or cognac knee high riding bo...  \n",
              "2                                         New in box  \n",
              "3                  Made to withstand winter climate.  \n",
              "4  Unique, super cute and warm! EUC. Only selling...  "
            ],
            "text/html": [
              "\n",
              "  <div id=\"df-3bc73553-e78c-40d5-aa21-c1f4ea746351\">\n",
              "    <div class=\"colab-df-container\">\n",
              "      <div>\n",
              "<style scoped>\n",
              "    .dataframe tbody tr th:only-of-type {\n",
              "        vertical-align: middle;\n",
              "    }\n",
              "\n",
              "    .dataframe tbody tr th {\n",
              "        vertical-align: top;\n",
              "    }\n",
              "\n",
              "    .dataframe thead th {\n",
              "        text-align: right;\n",
              "    }\n",
              "</style>\n",
              "<table border=\"1\" class=\"dataframe\">\n",
              "  <thead>\n",
              "    <tr style=\"text-align: right;\">\n",
              "      <th></th>\n",
              "      <th>id</th>\n",
              "      <th>name</th>\n",
              "      <th>item_condition_id</th>\n",
              "      <th>category_name</th>\n",
              "      <th>brand_name</th>\n",
              "      <th>shipping</th>\n",
              "      <th>seller_id</th>\n",
              "      <th>item_description</th>\n",
              "    </tr>\n",
              "  </thead>\n",
              "  <tbody>\n",
              "    <tr>\n",
              "      <th>0</th>\n",
              "      <td>46</td>\n",
              "      <td>Corral boots</td>\n",
              "      <td>2</td>\n",
              "      <td>Women/Shoes/Boots</td>\n",
              "      <td>NaN</td>\n",
              "      <td>0</td>\n",
              "      <td>2261402465</td>\n",
              "      <td>Corral boots in excellent condition barely used</td>\n",
              "    </tr>\n",
              "    <tr>\n",
              "      <th>1</th>\n",
              "      <td>88</td>\n",
              "      <td>Vince Camuto Riding boots size 6</td>\n",
              "      <td>2</td>\n",
              "      <td>Women/Shoes/Boots</td>\n",
              "      <td>Vince Camuto</td>\n",
              "      <td>0</td>\n",
              "      <td>2021876312</td>\n",
              "      <td>super cute brown or cognac knee high riding bo...</td>\n",
              "    </tr>\n",
              "    <tr>\n",
              "      <th>2</th>\n",
              "      <td>212</td>\n",
              "      <td>Brand new UGG boots</td>\n",
              "      <td>1</td>\n",
              "      <td>Women/Shoes/Boots</td>\n",
              "      <td>UGG Australia</td>\n",
              "      <td>0</td>\n",
              "      <td>5803720303</td>\n",
              "      <td>New in box</td>\n",
              "    </tr>\n",
              "    <tr>\n",
              "      <th>3</th>\n",
              "      <td>289</td>\n",
              "      <td>LL Bean Boots 8\" Red sz 7M</td>\n",
              "      <td>3</td>\n",
              "      <td>Women/Shoes/Boots</td>\n",
              "      <td>L.L. Bean</td>\n",
              "      <td>0</td>\n",
              "      <td>1065939786</td>\n",
              "      <td>Made to withstand winter climate.</td>\n",
              "    </tr>\n",
              "    <tr>\n",
              "      <th>4</th>\n",
              "      <td>299</td>\n",
              "      <td>Black UGGS cargo boot</td>\n",
              "      <td>3</td>\n",
              "      <td>Women/Shoes/Boots</td>\n",
              "      <td>UGG Australia</td>\n",
              "      <td>1</td>\n",
              "      <td>479394728</td>\n",
              "      <td>Unique, super cute and warm! EUC. Only selling...</td>\n",
              "    </tr>\n",
              "  </tbody>\n",
              "</table>\n",
              "</div>\n",
              "      <button class=\"colab-df-convert\" onclick=\"convertToInteractive('df-3bc73553-e78c-40d5-aa21-c1f4ea746351')\"\n",
              "              title=\"Convert this dataframe to an interactive table.\"\n",
              "              style=\"display:none;\">\n",
              "        \n",
              "  <svg xmlns=\"http://www.w3.org/2000/svg\" height=\"24px\"viewBox=\"0 0 24 24\"\n",
              "       width=\"24px\">\n",
              "    <path d=\"M0 0h24v24H0V0z\" fill=\"none\"/>\n",
              "    <path d=\"M18.56 5.44l.94 2.06.94-2.06 2.06-.94-2.06-.94-.94-2.06-.94 2.06-2.06.94zm-11 1L8.5 8.5l.94-2.06 2.06-.94-2.06-.94L8.5 2.5l-.94 2.06-2.06.94zm10 10l.94 2.06.94-2.06 2.06-.94-2.06-.94-.94-2.06-.94 2.06-2.06.94z\"/><path d=\"M17.41 7.96l-1.37-1.37c-.4-.4-.92-.59-1.43-.59-.52 0-1.04.2-1.43.59L10.3 9.45l-7.72 7.72c-.78.78-.78 2.05 0 2.83L4 21.41c.39.39.9.59 1.41.59.51 0 1.02-.2 1.41-.59l7.78-7.78 2.81-2.81c.8-.78.8-2.07 0-2.86zM5.41 20L4 18.59l7.72-7.72 1.47 1.35L5.41 20z\"/>\n",
              "  </svg>\n",
              "      </button>\n",
              "      \n",
              "  <style>\n",
              "    .colab-df-container {\n",
              "      display:flex;\n",
              "      flex-wrap:wrap;\n",
              "      gap: 12px;\n",
              "    }\n",
              "\n",
              "    .colab-df-convert {\n",
              "      background-color: #E8F0FE;\n",
              "      border: none;\n",
              "      border-radius: 50%;\n",
              "      cursor: pointer;\n",
              "      display: none;\n",
              "      fill: #1967D2;\n",
              "      height: 32px;\n",
              "      padding: 0 0 0 0;\n",
              "      width: 32px;\n",
              "    }\n",
              "\n",
              "    .colab-df-convert:hover {\n",
              "      background-color: #E2EBFA;\n",
              "      box-shadow: 0px 1px 2px rgba(60, 64, 67, 0.3), 0px 1px 3px 1px rgba(60, 64, 67, 0.15);\n",
              "      fill: #174EA6;\n",
              "    }\n",
              "\n",
              "    [theme=dark] .colab-df-convert {\n",
              "      background-color: #3B4455;\n",
              "      fill: #D2E3FC;\n",
              "    }\n",
              "\n",
              "    [theme=dark] .colab-df-convert:hover {\n",
              "      background-color: #434B5C;\n",
              "      box-shadow: 0px 1px 3px 1px rgba(0, 0, 0, 0.15);\n",
              "      filter: drop-shadow(0px 1px 2px rgba(0, 0, 0, 0.3));\n",
              "      fill: #FFFFFF;\n",
              "    }\n",
              "  </style>\n",
              "\n",
              "      <script>\n",
              "        const buttonEl =\n",
              "          document.querySelector('#df-3bc73553-e78c-40d5-aa21-c1f4ea746351 button.colab-df-convert');\n",
              "        buttonEl.style.display =\n",
              "          google.colab.kernel.accessAllowed ? 'block' : 'none';\n",
              "\n",
              "        async function convertToInteractive(key) {\n",
              "          const element = document.querySelector('#df-3bc73553-e78c-40d5-aa21-c1f4ea746351');\n",
              "          const dataTable =\n",
              "            await google.colab.kernel.invokeFunction('convertToInteractive',\n",
              "                                                     [key], {});\n",
              "          if (!dataTable) return;\n",
              "\n",
              "          const docLinkHtml = 'Like what you see? Visit the ' +\n",
              "            '<a target=\"_blank\" href=https://colab.research.google.com/notebooks/data_table.ipynb>data table notebook</a>'\n",
              "            + ' to learn more about interactive tables.';\n",
              "          element.innerHTML = '';\n",
              "          dataTable['output_type'] = 'display_data';\n",
              "          await google.colab.output.renderOutput(dataTable, element);\n",
              "          const docLink = document.createElement('div');\n",
              "          docLink.innerHTML = docLinkHtml;\n",
              "          element.appendChild(docLink);\n",
              "        }\n",
              "      </script>\n",
              "    </div>\n",
              "  </div>\n",
              "  "
            ]
          },
          "metadata": {},
          "execution_count": 431
        }
      ]
    },
    {
      "cell_type": "code",
      "source": [
        ""
      ],
      "metadata": {
        "id": "1eShiQf3wnPk"
      },
      "execution_count": 431,
      "outputs": []
    },
    {
      "cell_type": "markdown",
      "source": [
        "### **General overview of the data:**"
      ],
      "metadata": {
        "id": "aPelv1jEv7sm"
      }
    },
    {
      "cell_type": "code",
      "source": [
        "train_data.info()"
      ],
      "metadata": {
        "id": "EPfRvX_OicWb",
        "colab": {
          "base_uri": "https://localhost:8080/"
        },
        "outputId": "2db0dffc-9f7e-427f-85e6-0fc46fd50887"
      },
      "execution_count": 432,
      "outputs": [
        {
          "output_type": "stream",
          "name": "stdout",
          "text": [
            "<class 'pandas.core.frame.DataFrame'>\n",
            "RangeIndex: 68400 entries, 0 to 68399\n",
            "Data columns (total 9 columns):\n",
            " #   Column             Non-Null Count  Dtype \n",
            "---  ------             --------------  ----- \n",
            " 0   id                 68400 non-null  int64 \n",
            " 1   name               68400 non-null  object\n",
            " 2   item_condition_id  68400 non-null  int64 \n",
            " 3   category_name      68400 non-null  object\n",
            " 4   brand_name         46935 non-null  object\n",
            " 5   price              68400 non-null  int64 \n",
            " 6   shipping           68400 non-null  int64 \n",
            " 7   seller_id          68400 non-null  int64 \n",
            " 8   item_description   61590 non-null  object\n",
            "dtypes: int64(5), object(4)\n",
            "memory usage: 4.7+ MB\n"
          ]
        }
      ]
    },
    {
      "cell_type": "code",
      "source": [
        "test_data.info()"
      ],
      "metadata": {
        "id": "4TUct5l_1rF9",
        "colab": {
          "base_uri": "https://localhost:8080/"
        },
        "outputId": "dd909994-3456-47aa-afdb-60b398c102f3"
      },
      "execution_count": 433,
      "outputs": [
        {
          "output_type": "stream",
          "name": "stdout",
          "text": [
            "<class 'pandas.core.frame.DataFrame'>\n",
            "RangeIndex: 31789 entries, 0 to 31788\n",
            "Data columns (total 8 columns):\n",
            " #   Column             Non-Null Count  Dtype \n",
            "---  ------             --------------  ----- \n",
            " 0   id                 31789 non-null  int64 \n",
            " 1   name               31789 non-null  object\n",
            " 2   item_condition_id  31789 non-null  int64 \n",
            " 3   category_name      31789 non-null  object\n",
            " 4   brand_name         21894 non-null  object\n",
            " 5   shipping           31789 non-null  int64 \n",
            " 6   seller_id          31789 non-null  int64 \n",
            " 7   item_description   28719 non-null  object\n",
            "dtypes: int64(4), object(4)\n",
            "memory usage: 1.9+ MB\n"
          ]
        }
      ]
    },
    {
      "cell_type": "code",
      "source": [
        "train_data.nunique()"
      ],
      "metadata": {
        "id": "ZAEyV1a7jADn",
        "colab": {
          "base_uri": "https://localhost:8080/"
        },
        "outputId": "27789e52-6434-43e9-c1e8-791b7fdc308a"
      },
      "execution_count": 434,
      "outputs": [
        {
          "output_type": "execute_result",
          "data": {
            "text/plain": [
              "id                   68400\n",
              "name                 59282\n",
              "item_condition_id        5\n",
              "category_name           23\n",
              "brand_name            1083\n",
              "price                  230\n",
              "shipping                 2\n",
              "seller_id            42161\n",
              "item_description     57531\n",
              "dtype: int64"
            ]
          },
          "metadata": {},
          "execution_count": 434
        }
      ]
    },
    {
      "cell_type": "code",
      "source": [
        "test_data.nunique()"
      ],
      "metadata": {
        "id": "hhgoseZ_12Ok",
        "colab": {
          "base_uri": "https://localhost:8080/"
        },
        "outputId": "f238c97a-7406-4baf-8958-a4a3e5eb7589"
      },
      "execution_count": 435,
      "outputs": [
        {
          "output_type": "execute_result",
          "data": {
            "text/plain": [
              "id                   31789\n",
              "name                 28693\n",
              "item_condition_id        5\n",
              "category_name           23\n",
              "brand_name             814\n",
              "shipping                 2\n",
              "seller_id            23602\n",
              "item_description     27068\n",
              "dtype: int64"
            ]
          },
          "metadata": {},
          "execution_count": 435
        }
      ]
    },
    {
      "cell_type": "code",
      "source": [
        "submission_final= pd.DataFrame(test_data['id'])\n",
        "submission_final.head(5)"
      ],
      "metadata": {
        "id": "Swxz2SrpwlF9",
        "colab": {
          "base_uri": "https://localhost:8080/",
          "height": 206
        },
        "outputId": "8294c179-b1dc-48b1-829e-b3f8dc1a21e2"
      },
      "execution_count": 436,
      "outputs": [
        {
          "output_type": "execute_result",
          "data": {
            "text/plain": [
              "    id\n",
              "0   46\n",
              "1   88\n",
              "2  212\n",
              "3  289\n",
              "4  299"
            ],
            "text/html": [
              "\n",
              "  <div id=\"df-75630bcc-a129-403b-b62c-fee763b72fda\">\n",
              "    <div class=\"colab-df-container\">\n",
              "      <div>\n",
              "<style scoped>\n",
              "    .dataframe tbody tr th:only-of-type {\n",
              "        vertical-align: middle;\n",
              "    }\n",
              "\n",
              "    .dataframe tbody tr th {\n",
              "        vertical-align: top;\n",
              "    }\n",
              "\n",
              "    .dataframe thead th {\n",
              "        text-align: right;\n",
              "    }\n",
              "</style>\n",
              "<table border=\"1\" class=\"dataframe\">\n",
              "  <thead>\n",
              "    <tr style=\"text-align: right;\">\n",
              "      <th></th>\n",
              "      <th>id</th>\n",
              "    </tr>\n",
              "  </thead>\n",
              "  <tbody>\n",
              "    <tr>\n",
              "      <th>0</th>\n",
              "      <td>46</td>\n",
              "    </tr>\n",
              "    <tr>\n",
              "      <th>1</th>\n",
              "      <td>88</td>\n",
              "    </tr>\n",
              "    <tr>\n",
              "      <th>2</th>\n",
              "      <td>212</td>\n",
              "    </tr>\n",
              "    <tr>\n",
              "      <th>3</th>\n",
              "      <td>289</td>\n",
              "    </tr>\n",
              "    <tr>\n",
              "      <th>4</th>\n",
              "      <td>299</td>\n",
              "    </tr>\n",
              "  </tbody>\n",
              "</table>\n",
              "</div>\n",
              "      <button class=\"colab-df-convert\" onclick=\"convertToInteractive('df-75630bcc-a129-403b-b62c-fee763b72fda')\"\n",
              "              title=\"Convert this dataframe to an interactive table.\"\n",
              "              style=\"display:none;\">\n",
              "        \n",
              "  <svg xmlns=\"http://www.w3.org/2000/svg\" height=\"24px\"viewBox=\"0 0 24 24\"\n",
              "       width=\"24px\">\n",
              "    <path d=\"M0 0h24v24H0V0z\" fill=\"none\"/>\n",
              "    <path d=\"M18.56 5.44l.94 2.06.94-2.06 2.06-.94-2.06-.94-.94-2.06-.94 2.06-2.06.94zm-11 1L8.5 8.5l.94-2.06 2.06-.94-2.06-.94L8.5 2.5l-.94 2.06-2.06.94zm10 10l.94 2.06.94-2.06 2.06-.94-2.06-.94-.94-2.06-.94 2.06-2.06.94z\"/><path d=\"M17.41 7.96l-1.37-1.37c-.4-.4-.92-.59-1.43-.59-.52 0-1.04.2-1.43.59L10.3 9.45l-7.72 7.72c-.78.78-.78 2.05 0 2.83L4 21.41c.39.39.9.59 1.41.59.51 0 1.02-.2 1.41-.59l7.78-7.78 2.81-2.81c.8-.78.8-2.07 0-2.86zM5.41 20L4 18.59l7.72-7.72 1.47 1.35L5.41 20z\"/>\n",
              "  </svg>\n",
              "      </button>\n",
              "      \n",
              "  <style>\n",
              "    .colab-df-container {\n",
              "      display:flex;\n",
              "      flex-wrap:wrap;\n",
              "      gap: 12px;\n",
              "    }\n",
              "\n",
              "    .colab-df-convert {\n",
              "      background-color: #E8F0FE;\n",
              "      border: none;\n",
              "      border-radius: 50%;\n",
              "      cursor: pointer;\n",
              "      display: none;\n",
              "      fill: #1967D2;\n",
              "      height: 32px;\n",
              "      padding: 0 0 0 0;\n",
              "      width: 32px;\n",
              "    }\n",
              "\n",
              "    .colab-df-convert:hover {\n",
              "      background-color: #E2EBFA;\n",
              "      box-shadow: 0px 1px 2px rgba(60, 64, 67, 0.3), 0px 1px 3px 1px rgba(60, 64, 67, 0.15);\n",
              "      fill: #174EA6;\n",
              "    }\n",
              "\n",
              "    [theme=dark] .colab-df-convert {\n",
              "      background-color: #3B4455;\n",
              "      fill: #D2E3FC;\n",
              "    }\n",
              "\n",
              "    [theme=dark] .colab-df-convert:hover {\n",
              "      background-color: #434B5C;\n",
              "      box-shadow: 0px 1px 3px 1px rgba(0, 0, 0, 0.15);\n",
              "      filter: drop-shadow(0px 1px 2px rgba(0, 0, 0, 0.3));\n",
              "      fill: #FFFFFF;\n",
              "    }\n",
              "  </style>\n",
              "\n",
              "      <script>\n",
              "        const buttonEl =\n",
              "          document.querySelector('#df-75630bcc-a129-403b-b62c-fee763b72fda button.colab-df-convert');\n",
              "        buttonEl.style.display =\n",
              "          google.colab.kernel.accessAllowed ? 'block' : 'none';\n",
              "\n",
              "        async function convertToInteractive(key) {\n",
              "          const element = document.querySelector('#df-75630bcc-a129-403b-b62c-fee763b72fda');\n",
              "          const dataTable =\n",
              "            await google.colab.kernel.invokeFunction('convertToInteractive',\n",
              "                                                     [key], {});\n",
              "          if (!dataTable) return;\n",
              "\n",
              "          const docLinkHtml = 'Like what you see? Visit the ' +\n",
              "            '<a target=\"_blank\" href=https://colab.research.google.com/notebooks/data_table.ipynb>data table notebook</a>'\n",
              "            + ' to learn more about interactive tables.';\n",
              "          element.innerHTML = '';\n",
              "          dataTable['output_type'] = 'display_data';\n",
              "          await google.colab.output.renderOutput(dataTable, element);\n",
              "          const docLink = document.createElement('div');\n",
              "          docLink.innerHTML = docLinkHtml;\n",
              "          element.appendChild(docLink);\n",
              "        }\n",
              "      </script>\n",
              "    </div>\n",
              "  </div>\n",
              "  "
            ]
          },
          "metadata": {},
          "execution_count": 436
        }
      ]
    },
    {
      "cell_type": "markdown",
      "source": [
        "### **Check for duplicate rows**"
      ],
      "metadata": {
        "id": "3W4CD1sUxWC6"
      }
    },
    {
      "cell_type": "code",
      "source": [
        "train_data.duplicated().any()"
      ],
      "metadata": {
        "id": "-KUbGHERq5At",
        "colab": {
          "base_uri": "https://localhost:8080/"
        },
        "outputId": "0b28f54f-6a64-4577-9b85-baefe7d72a4b"
      },
      "execution_count": 437,
      "outputs": [
        {
          "output_type": "execute_result",
          "data": {
            "text/plain": [
              "False"
            ]
          },
          "metadata": {},
          "execution_count": 437
        }
      ]
    },
    {
      "cell_type": "markdown",
      "source": [
        "No duplicate rows present in the train dataset"
      ],
      "metadata": {
        "id": "2JJBKBNjxqkB"
      }
    },
    {
      "cell_type": "markdown",
      "source": [
        "### **Checking for null values in the data set:**\n"
      ],
      "metadata": {
        "id": "lsY-F6-lvdd6"
      }
    },
    {
      "cell_type": "code",
      "source": [
        "train_data.isnull().sum()"
      ],
      "metadata": {
        "id": "dkBttholirEH",
        "colab": {
          "base_uri": "https://localhost:8080/"
        },
        "outputId": "eebb9e98-d6a1-4fbd-cebf-ed8141b6aef9"
      },
      "execution_count": 438,
      "outputs": [
        {
          "output_type": "execute_result",
          "data": {
            "text/plain": [
              "id                       0\n",
              "name                     0\n",
              "item_condition_id        0\n",
              "category_name            0\n",
              "brand_name           21465\n",
              "price                    0\n",
              "shipping                 0\n",
              "seller_id                0\n",
              "item_description      6810\n",
              "dtype: int64"
            ]
          },
          "metadata": {},
          "execution_count": 438
        }
      ]
    },
    {
      "cell_type": "code",
      "source": [
        "test_data.isnull().sum()"
      ],
      "metadata": {
        "id": "MoLk0FJj1u6E",
        "colab": {
          "base_uri": "https://localhost:8080/"
        },
        "outputId": "ff96f8ba-32aa-4a92-975e-d0341a7647d5"
      },
      "execution_count": 439,
      "outputs": [
        {
          "output_type": "execute_result",
          "data": {
            "text/plain": [
              "id                      0\n",
              "name                    0\n",
              "item_condition_id       0\n",
              "category_name           0\n",
              "brand_name           9895\n",
              "shipping                0\n",
              "seller_id               0\n",
              "item_description     3070\n",
              "dtype: int64"
            ]
          },
          "metadata": {},
          "execution_count": 439
        }
      ]
    },
    {
      "cell_type": "markdown",
      "source": [
        "- Here, We can see that the columns ‘brand_name’ and ‘item_description’ have null values. There are different techniques of dealing with missing values like removal of the rows with values missing, remove the feature with a high percentage of missing values or fill the columns with missing values by some other values. Here, we have chosen to fill these missing values in the data by some other value."
      ],
      "metadata": {
        "id": "tiQKuIC1wRQG"
      }
    },
    {
      "cell_type": "markdown",
      "source": [
        "- The function `replace_null_value` fills all the columns ‘brand_name’ and ‘item_description’ that have null values with some optional values."
      ],
      "metadata": {
        "id": "1LTNMWnDqC0N"
      }
    },
    {
      "cell_type": "code",
      "source": [
        "def replace_null_value(data):\n",
        "  data.brand_name.fillna(value = 'missing', inplace = True)\n",
        "  data.item_description.fillna(value = 'No description given', inplace = True)\n",
        "  return data"
      ],
      "metadata": {
        "id": "wJQQix3cFVFv"
      },
      "execution_count": 440,
      "outputs": []
    },
    {
      "cell_type": "code",
      "source": [
        "train_data = replace_null_value(train_data)\n",
        "print(np.shape(train_data))\n",
        "train_data.head()"
      ],
      "metadata": {
        "id": "eUxZmkb2JRAc",
        "colab": {
          "base_uri": "https://localhost:8080/",
          "height": 223
        },
        "outputId": "d6cce1bb-a258-4e21-fbe6-99f2fda7af29"
      },
      "execution_count": 441,
      "outputs": [
        {
          "output_type": "stream",
          "name": "stdout",
          "text": [
            "(68400, 9)\n"
          ]
        },
        {
          "output_type": "execute_result",
          "data": {
            "text/plain": [
              "   id                                      name  item_condition_id  \\\n",
              "0  17  Hold Alyssa Frye Harness boots 12R, Sz 7                  3   \n",
              "1  19                      Steve Madden booties                  3   \n",
              "2  42                          BCBG Tan Booties                  1   \n",
              "3  45          NWT Sorel Caribou boots size 8.5                  1   \n",
              "4  58      NIB Hunter Tiffany Mint Boots Size 5                  1   \n",
              "\n",
              "       category_name    brand_name  price  shipping   seller_id  \\\n",
              "0  Women/Shoes/Boots          Frye     79         1   211140753   \n",
              "1  Women/Shoes/Boots  Steve Madden     31         0  3874531266   \n",
              "2  Women/Shoes/Boots       missing     48         0  8341537216   \n",
              "3  Women/Shoes/Boots       missing     85         0  4040379892   \n",
              "4  Women/Shoes/Boots        Hunter    200         0    19216599   \n",
              "\n",
              "                                    item_description  \n",
              "0  Good used condition Women's Fyre harness boots...  \n",
              "1  The brand is actually \"Steven\" by Steve Madden...  \n",
              "2               Brand new! Does not include the box.  \n",
              "3                               New in box. Size 8.5  \n",
              "4  Brand new never worn only flaw is as you can s...  "
            ],
            "text/html": [
              "\n",
              "  <div id=\"df-056078b6-f628-419d-aa62-2a039452e7c1\">\n",
              "    <div class=\"colab-df-container\">\n",
              "      <div>\n",
              "<style scoped>\n",
              "    .dataframe tbody tr th:only-of-type {\n",
              "        vertical-align: middle;\n",
              "    }\n",
              "\n",
              "    .dataframe tbody tr th {\n",
              "        vertical-align: top;\n",
              "    }\n",
              "\n",
              "    .dataframe thead th {\n",
              "        text-align: right;\n",
              "    }\n",
              "</style>\n",
              "<table border=\"1\" class=\"dataframe\">\n",
              "  <thead>\n",
              "    <tr style=\"text-align: right;\">\n",
              "      <th></th>\n",
              "      <th>id</th>\n",
              "      <th>name</th>\n",
              "      <th>item_condition_id</th>\n",
              "      <th>category_name</th>\n",
              "      <th>brand_name</th>\n",
              "      <th>price</th>\n",
              "      <th>shipping</th>\n",
              "      <th>seller_id</th>\n",
              "      <th>item_description</th>\n",
              "    </tr>\n",
              "  </thead>\n",
              "  <tbody>\n",
              "    <tr>\n",
              "      <th>0</th>\n",
              "      <td>17</td>\n",
              "      <td>Hold Alyssa Frye Harness boots 12R, Sz 7</td>\n",
              "      <td>3</td>\n",
              "      <td>Women/Shoes/Boots</td>\n",
              "      <td>Frye</td>\n",
              "      <td>79</td>\n",
              "      <td>1</td>\n",
              "      <td>211140753</td>\n",
              "      <td>Good used condition Women's Fyre harness boots...</td>\n",
              "    </tr>\n",
              "    <tr>\n",
              "      <th>1</th>\n",
              "      <td>19</td>\n",
              "      <td>Steve Madden booties</td>\n",
              "      <td>3</td>\n",
              "      <td>Women/Shoes/Boots</td>\n",
              "      <td>Steve Madden</td>\n",
              "      <td>31</td>\n",
              "      <td>0</td>\n",
              "      <td>3874531266</td>\n",
              "      <td>The brand is actually \"Steven\" by Steve Madden...</td>\n",
              "    </tr>\n",
              "    <tr>\n",
              "      <th>2</th>\n",
              "      <td>42</td>\n",
              "      <td>BCBG Tan Booties</td>\n",
              "      <td>1</td>\n",
              "      <td>Women/Shoes/Boots</td>\n",
              "      <td>missing</td>\n",
              "      <td>48</td>\n",
              "      <td>0</td>\n",
              "      <td>8341537216</td>\n",
              "      <td>Brand new! Does not include the box.</td>\n",
              "    </tr>\n",
              "    <tr>\n",
              "      <th>3</th>\n",
              "      <td>45</td>\n",
              "      <td>NWT Sorel Caribou boots size 8.5</td>\n",
              "      <td>1</td>\n",
              "      <td>Women/Shoes/Boots</td>\n",
              "      <td>missing</td>\n",
              "      <td>85</td>\n",
              "      <td>0</td>\n",
              "      <td>4040379892</td>\n",
              "      <td>New in box. Size 8.5</td>\n",
              "    </tr>\n",
              "    <tr>\n",
              "      <th>4</th>\n",
              "      <td>58</td>\n",
              "      <td>NIB Hunter Tiffany Mint Boots Size 5</td>\n",
              "      <td>1</td>\n",
              "      <td>Women/Shoes/Boots</td>\n",
              "      <td>Hunter</td>\n",
              "      <td>200</td>\n",
              "      <td>0</td>\n",
              "      <td>19216599</td>\n",
              "      <td>Brand new never worn only flaw is as you can s...</td>\n",
              "    </tr>\n",
              "  </tbody>\n",
              "</table>\n",
              "</div>\n",
              "      <button class=\"colab-df-convert\" onclick=\"convertToInteractive('df-056078b6-f628-419d-aa62-2a039452e7c1')\"\n",
              "              title=\"Convert this dataframe to an interactive table.\"\n",
              "              style=\"display:none;\">\n",
              "        \n",
              "  <svg xmlns=\"http://www.w3.org/2000/svg\" height=\"24px\"viewBox=\"0 0 24 24\"\n",
              "       width=\"24px\">\n",
              "    <path d=\"M0 0h24v24H0V0z\" fill=\"none\"/>\n",
              "    <path d=\"M18.56 5.44l.94 2.06.94-2.06 2.06-.94-2.06-.94-.94-2.06-.94 2.06-2.06.94zm-11 1L8.5 8.5l.94-2.06 2.06-.94-2.06-.94L8.5 2.5l-.94 2.06-2.06.94zm10 10l.94 2.06.94-2.06 2.06-.94-2.06-.94-.94-2.06-.94 2.06-2.06.94z\"/><path d=\"M17.41 7.96l-1.37-1.37c-.4-.4-.92-.59-1.43-.59-.52 0-1.04.2-1.43.59L10.3 9.45l-7.72 7.72c-.78.78-.78 2.05 0 2.83L4 21.41c.39.39.9.59 1.41.59.51 0 1.02-.2 1.41-.59l7.78-7.78 2.81-2.81c.8-.78.8-2.07 0-2.86zM5.41 20L4 18.59l7.72-7.72 1.47 1.35L5.41 20z\"/>\n",
              "  </svg>\n",
              "      </button>\n",
              "      \n",
              "  <style>\n",
              "    .colab-df-container {\n",
              "      display:flex;\n",
              "      flex-wrap:wrap;\n",
              "      gap: 12px;\n",
              "    }\n",
              "\n",
              "    .colab-df-convert {\n",
              "      background-color: #E8F0FE;\n",
              "      border: none;\n",
              "      border-radius: 50%;\n",
              "      cursor: pointer;\n",
              "      display: none;\n",
              "      fill: #1967D2;\n",
              "      height: 32px;\n",
              "      padding: 0 0 0 0;\n",
              "      width: 32px;\n",
              "    }\n",
              "\n",
              "    .colab-df-convert:hover {\n",
              "      background-color: #E2EBFA;\n",
              "      box-shadow: 0px 1px 2px rgba(60, 64, 67, 0.3), 0px 1px 3px 1px rgba(60, 64, 67, 0.15);\n",
              "      fill: #174EA6;\n",
              "    }\n",
              "\n",
              "    [theme=dark] .colab-df-convert {\n",
              "      background-color: #3B4455;\n",
              "      fill: #D2E3FC;\n",
              "    }\n",
              "\n",
              "    [theme=dark] .colab-df-convert:hover {\n",
              "      background-color: #434B5C;\n",
              "      box-shadow: 0px 1px 3px 1px rgba(0, 0, 0, 0.15);\n",
              "      filter: drop-shadow(0px 1px 2px rgba(0, 0, 0, 0.3));\n",
              "      fill: #FFFFFF;\n",
              "    }\n",
              "  </style>\n",
              "\n",
              "      <script>\n",
              "        const buttonEl =\n",
              "          document.querySelector('#df-056078b6-f628-419d-aa62-2a039452e7c1 button.colab-df-convert');\n",
              "        buttonEl.style.display =\n",
              "          google.colab.kernel.accessAllowed ? 'block' : 'none';\n",
              "\n",
              "        async function convertToInteractive(key) {\n",
              "          const element = document.querySelector('#df-056078b6-f628-419d-aa62-2a039452e7c1');\n",
              "          const dataTable =\n",
              "            await google.colab.kernel.invokeFunction('convertToInteractive',\n",
              "                                                     [key], {});\n",
              "          if (!dataTable) return;\n",
              "\n",
              "          const docLinkHtml = 'Like what you see? Visit the ' +\n",
              "            '<a target=\"_blank\" href=https://colab.research.google.com/notebooks/data_table.ipynb>data table notebook</a>'\n",
              "            + ' to learn more about interactive tables.';\n",
              "          element.innerHTML = '';\n",
              "          dataTable['output_type'] = 'display_data';\n",
              "          await google.colab.output.renderOutput(dataTable, element);\n",
              "          const docLink = document.createElement('div');\n",
              "          docLink.innerHTML = docLinkHtml;\n",
              "          element.appendChild(docLink);\n",
              "        }\n",
              "      </script>\n",
              "    </div>\n",
              "  </div>\n",
              "  "
            ]
          },
          "metadata": {},
          "execution_count": 441
        }
      ]
    },
    {
      "cell_type": "code",
      "source": [
        "test_data = replace_null_value(test_data)\n",
        "print(np.shape(test_data))\n",
        "test_data.head()"
      ],
      "metadata": {
        "id": "Pq0cSLLx2Wt_",
        "colab": {
          "base_uri": "https://localhost:8080/",
          "height": 223
        },
        "outputId": "48374a18-508f-4b26-a8e6-5a7b4e1e1153"
      },
      "execution_count": 442,
      "outputs": [
        {
          "output_type": "stream",
          "name": "stdout",
          "text": [
            "(31789, 8)\n"
          ]
        },
        {
          "output_type": "execute_result",
          "data": {
            "text/plain": [
              "    id                              name  item_condition_id  \\\n",
              "0   46                      Corral boots                  2   \n",
              "1   88  Vince Camuto Riding boots size 6                  2   \n",
              "2  212               Brand new UGG boots                  1   \n",
              "3  289        LL Bean Boots 8\" Red sz 7M                  3   \n",
              "4  299             Black UGGS cargo boot                  3   \n",
              "\n",
              "       category_name     brand_name  shipping   seller_id  \\\n",
              "0  Women/Shoes/Boots        missing         0  2261402465   \n",
              "1  Women/Shoes/Boots   Vince Camuto         0  2021876312   \n",
              "2  Women/Shoes/Boots  UGG Australia         0  5803720303   \n",
              "3  Women/Shoes/Boots      L.L. Bean         0  1065939786   \n",
              "4  Women/Shoes/Boots  UGG Australia         1   479394728   \n",
              "\n",
              "                                    item_description  \n",
              "0    Corral boots in excellent condition barely used  \n",
              "1  super cute brown or cognac knee high riding bo...  \n",
              "2                                         New in box  \n",
              "3                  Made to withstand winter climate.  \n",
              "4  Unique, super cute and warm! EUC. Only selling...  "
            ],
            "text/html": [
              "\n",
              "  <div id=\"df-7d094fa3-1e27-4553-a6b0-8b50114fe590\">\n",
              "    <div class=\"colab-df-container\">\n",
              "      <div>\n",
              "<style scoped>\n",
              "    .dataframe tbody tr th:only-of-type {\n",
              "        vertical-align: middle;\n",
              "    }\n",
              "\n",
              "    .dataframe tbody tr th {\n",
              "        vertical-align: top;\n",
              "    }\n",
              "\n",
              "    .dataframe thead th {\n",
              "        text-align: right;\n",
              "    }\n",
              "</style>\n",
              "<table border=\"1\" class=\"dataframe\">\n",
              "  <thead>\n",
              "    <tr style=\"text-align: right;\">\n",
              "      <th></th>\n",
              "      <th>id</th>\n",
              "      <th>name</th>\n",
              "      <th>item_condition_id</th>\n",
              "      <th>category_name</th>\n",
              "      <th>brand_name</th>\n",
              "      <th>shipping</th>\n",
              "      <th>seller_id</th>\n",
              "      <th>item_description</th>\n",
              "    </tr>\n",
              "  </thead>\n",
              "  <tbody>\n",
              "    <tr>\n",
              "      <th>0</th>\n",
              "      <td>46</td>\n",
              "      <td>Corral boots</td>\n",
              "      <td>2</td>\n",
              "      <td>Women/Shoes/Boots</td>\n",
              "      <td>missing</td>\n",
              "      <td>0</td>\n",
              "      <td>2261402465</td>\n",
              "      <td>Corral boots in excellent condition barely used</td>\n",
              "    </tr>\n",
              "    <tr>\n",
              "      <th>1</th>\n",
              "      <td>88</td>\n",
              "      <td>Vince Camuto Riding boots size 6</td>\n",
              "      <td>2</td>\n",
              "      <td>Women/Shoes/Boots</td>\n",
              "      <td>Vince Camuto</td>\n",
              "      <td>0</td>\n",
              "      <td>2021876312</td>\n",
              "      <td>super cute brown or cognac knee high riding bo...</td>\n",
              "    </tr>\n",
              "    <tr>\n",
              "      <th>2</th>\n",
              "      <td>212</td>\n",
              "      <td>Brand new UGG boots</td>\n",
              "      <td>1</td>\n",
              "      <td>Women/Shoes/Boots</td>\n",
              "      <td>UGG Australia</td>\n",
              "      <td>0</td>\n",
              "      <td>5803720303</td>\n",
              "      <td>New in box</td>\n",
              "    </tr>\n",
              "    <tr>\n",
              "      <th>3</th>\n",
              "      <td>289</td>\n",
              "      <td>LL Bean Boots 8\" Red sz 7M</td>\n",
              "      <td>3</td>\n",
              "      <td>Women/Shoes/Boots</td>\n",
              "      <td>L.L. Bean</td>\n",
              "      <td>0</td>\n",
              "      <td>1065939786</td>\n",
              "      <td>Made to withstand winter climate.</td>\n",
              "    </tr>\n",
              "    <tr>\n",
              "      <th>4</th>\n",
              "      <td>299</td>\n",
              "      <td>Black UGGS cargo boot</td>\n",
              "      <td>3</td>\n",
              "      <td>Women/Shoes/Boots</td>\n",
              "      <td>UGG Australia</td>\n",
              "      <td>1</td>\n",
              "      <td>479394728</td>\n",
              "      <td>Unique, super cute and warm! EUC. Only selling...</td>\n",
              "    </tr>\n",
              "  </tbody>\n",
              "</table>\n",
              "</div>\n",
              "      <button class=\"colab-df-convert\" onclick=\"convertToInteractive('df-7d094fa3-1e27-4553-a6b0-8b50114fe590')\"\n",
              "              title=\"Convert this dataframe to an interactive table.\"\n",
              "              style=\"display:none;\">\n",
              "        \n",
              "  <svg xmlns=\"http://www.w3.org/2000/svg\" height=\"24px\"viewBox=\"0 0 24 24\"\n",
              "       width=\"24px\">\n",
              "    <path d=\"M0 0h24v24H0V0z\" fill=\"none\"/>\n",
              "    <path d=\"M18.56 5.44l.94 2.06.94-2.06 2.06-.94-2.06-.94-.94-2.06-.94 2.06-2.06.94zm-11 1L8.5 8.5l.94-2.06 2.06-.94-2.06-.94L8.5 2.5l-.94 2.06-2.06.94zm10 10l.94 2.06.94-2.06 2.06-.94-2.06-.94-.94-2.06-.94 2.06-2.06.94z\"/><path d=\"M17.41 7.96l-1.37-1.37c-.4-.4-.92-.59-1.43-.59-.52 0-1.04.2-1.43.59L10.3 9.45l-7.72 7.72c-.78.78-.78 2.05 0 2.83L4 21.41c.39.39.9.59 1.41.59.51 0 1.02-.2 1.41-.59l7.78-7.78 2.81-2.81c.8-.78.8-2.07 0-2.86zM5.41 20L4 18.59l7.72-7.72 1.47 1.35L5.41 20z\"/>\n",
              "  </svg>\n",
              "      </button>\n",
              "      \n",
              "  <style>\n",
              "    .colab-df-container {\n",
              "      display:flex;\n",
              "      flex-wrap:wrap;\n",
              "      gap: 12px;\n",
              "    }\n",
              "\n",
              "    .colab-df-convert {\n",
              "      background-color: #E8F0FE;\n",
              "      border: none;\n",
              "      border-radius: 50%;\n",
              "      cursor: pointer;\n",
              "      display: none;\n",
              "      fill: #1967D2;\n",
              "      height: 32px;\n",
              "      padding: 0 0 0 0;\n",
              "      width: 32px;\n",
              "    }\n",
              "\n",
              "    .colab-df-convert:hover {\n",
              "      background-color: #E2EBFA;\n",
              "      box-shadow: 0px 1px 2px rgba(60, 64, 67, 0.3), 0px 1px 3px 1px rgba(60, 64, 67, 0.15);\n",
              "      fill: #174EA6;\n",
              "    }\n",
              "\n",
              "    [theme=dark] .colab-df-convert {\n",
              "      background-color: #3B4455;\n",
              "      fill: #D2E3FC;\n",
              "    }\n",
              "\n",
              "    [theme=dark] .colab-df-convert:hover {\n",
              "      background-color: #434B5C;\n",
              "      box-shadow: 0px 1px 3px 1px rgba(0, 0, 0, 0.15);\n",
              "      filter: drop-shadow(0px 1px 2px rgba(0, 0, 0, 0.3));\n",
              "      fill: #FFFFFF;\n",
              "    }\n",
              "  </style>\n",
              "\n",
              "      <script>\n",
              "        const buttonEl =\n",
              "          document.querySelector('#df-7d094fa3-1e27-4553-a6b0-8b50114fe590 button.colab-df-convert');\n",
              "        buttonEl.style.display =\n",
              "          google.colab.kernel.accessAllowed ? 'block' : 'none';\n",
              "\n",
              "        async function convertToInteractive(key) {\n",
              "          const element = document.querySelector('#df-7d094fa3-1e27-4553-a6b0-8b50114fe590');\n",
              "          const dataTable =\n",
              "            await google.colab.kernel.invokeFunction('convertToInteractive',\n",
              "                                                     [key], {});\n",
              "          if (!dataTable) return;\n",
              "\n",
              "          const docLinkHtml = 'Like what you see? Visit the ' +\n",
              "            '<a target=\"_blank\" href=https://colab.research.google.com/notebooks/data_table.ipynb>data table notebook</a>'\n",
              "            + ' to learn more about interactive tables.';\n",
              "          element.innerHTML = '';\n",
              "          dataTable['output_type'] = 'display_data';\n",
              "          await google.colab.output.renderOutput(dataTable, element);\n",
              "          const docLink = document.createElement('div');\n",
              "          docLink.innerHTML = docLinkHtml;\n",
              "          element.appendChild(docLink);\n",
              "        }\n",
              "      </script>\n",
              "    </div>\n",
              "  </div>\n",
              "  "
            ]
          },
          "metadata": {},
          "execution_count": 442
        }
      ]
    },
    {
      "cell_type": "code",
      "source": [
        "train_data.isna().sum()"
      ],
      "metadata": {
        "id": "7Jts34jbKqPJ",
        "colab": {
          "base_uri": "https://localhost:8080/"
        },
        "outputId": "d90e11ec-c983-4026-a55a-2dfc2c07e0f8"
      },
      "execution_count": 443,
      "outputs": [
        {
          "output_type": "execute_result",
          "data": {
            "text/plain": [
              "id                   0\n",
              "name                 0\n",
              "item_condition_id    0\n",
              "category_name        0\n",
              "brand_name           0\n",
              "price                0\n",
              "shipping             0\n",
              "seller_id            0\n",
              "item_description     0\n",
              "dtype: int64"
            ]
          },
          "metadata": {},
          "execution_count": 443
        }
      ]
    },
    {
      "cell_type": "code",
      "source": [
        "test_data.isna().sum()"
      ],
      "metadata": {
        "id": "Res4joub2dBw",
        "colab": {
          "base_uri": "https://localhost:8080/"
        },
        "outputId": "07825452-87d6-44f4-bc67-18dea71052cd"
      },
      "execution_count": 444,
      "outputs": [
        {
          "output_type": "execute_result",
          "data": {
            "text/plain": [
              "id                   0\n",
              "name                 0\n",
              "item_condition_id    0\n",
              "category_name        0\n",
              "brand_name           0\n",
              "shipping             0\n",
              "seller_id            0\n",
              "item_description     0\n",
              "dtype: int64"
            ]
          },
          "metadata": {},
          "execution_count": 444
        }
      ]
    },
    {
      "cell_type": "markdown",
      "source": [
        "- The category names are listed by ‘/’ delimiter which tells about the main category, sub-category 1 and sub-category 2 of the products. Therefore, to get better idea of each product, we will do feature engineering here and split the category name into 3 different columns namely, ` main_category` , `subcat_0` and `subcat_1`."
      ],
      "metadata": {
        "id": "kKFfaDTyqXqd"
      }
    },
    {
      "cell_type": "code",
      "source": [
        "def split_category(row):\n",
        "    try: \n",
        "      text = row\n",
        "      text0, text1, text2 =  text.split('/')\n",
        "      return text0, text1, text2\n",
        "    except: \n",
        "      return ('No Label given', 'No Label given', 'No Label given') "
      ],
      "metadata": {
        "id": "GS6Cluimzhou"
      },
      "execution_count": 445,
      "outputs": []
    },
    {
      "cell_type": "code",
      "source": [
        "train_data['main_category'], train_data['subcat_0'], train_data['subcat_1'] = zip(*train_data['category_name'].apply(lambda x: split_category(x)))\n",
        "train_data.head()"
      ],
      "metadata": {
        "id": "IwG3OtNU1qpI",
        "colab": {
          "base_uri": "https://localhost:8080/",
          "height": 320
        },
        "outputId": "1cafabf6-5d44-4333-fbcc-8fa7ea632dbc"
      },
      "execution_count": 446,
      "outputs": [
        {
          "output_type": "execute_result",
          "data": {
            "text/plain": [
              "   id                                      name  item_condition_id  \\\n",
              "0  17  Hold Alyssa Frye Harness boots 12R, Sz 7                  3   \n",
              "1  19                      Steve Madden booties                  3   \n",
              "2  42                          BCBG Tan Booties                  1   \n",
              "3  45          NWT Sorel Caribou boots size 8.5                  1   \n",
              "4  58      NIB Hunter Tiffany Mint Boots Size 5                  1   \n",
              "\n",
              "       category_name    brand_name  price  shipping   seller_id  \\\n",
              "0  Women/Shoes/Boots          Frye     79         1   211140753   \n",
              "1  Women/Shoes/Boots  Steve Madden     31         0  3874531266   \n",
              "2  Women/Shoes/Boots       missing     48         0  8341537216   \n",
              "3  Women/Shoes/Boots       missing     85         0  4040379892   \n",
              "4  Women/Shoes/Boots        Hunter    200         0    19216599   \n",
              "\n",
              "                                    item_description main_category subcat_0  \\\n",
              "0  Good used condition Women's Fyre harness boots...         Women    Shoes   \n",
              "1  The brand is actually \"Steven\" by Steve Madden...         Women    Shoes   \n",
              "2               Brand new! Does not include the box.         Women    Shoes   \n",
              "3                               New in box. Size 8.5         Women    Shoes   \n",
              "4  Brand new never worn only flaw is as you can s...         Women    Shoes   \n",
              "\n",
              "  subcat_1  \n",
              "0    Boots  \n",
              "1    Boots  \n",
              "2    Boots  \n",
              "3    Boots  \n",
              "4    Boots  "
            ],
            "text/html": [
              "\n",
              "  <div id=\"df-a592a003-2e07-4c0d-99d8-9a9b16b46a03\">\n",
              "    <div class=\"colab-df-container\">\n",
              "      <div>\n",
              "<style scoped>\n",
              "    .dataframe tbody tr th:only-of-type {\n",
              "        vertical-align: middle;\n",
              "    }\n",
              "\n",
              "    .dataframe tbody tr th {\n",
              "        vertical-align: top;\n",
              "    }\n",
              "\n",
              "    .dataframe thead th {\n",
              "        text-align: right;\n",
              "    }\n",
              "</style>\n",
              "<table border=\"1\" class=\"dataframe\">\n",
              "  <thead>\n",
              "    <tr style=\"text-align: right;\">\n",
              "      <th></th>\n",
              "      <th>id</th>\n",
              "      <th>name</th>\n",
              "      <th>item_condition_id</th>\n",
              "      <th>category_name</th>\n",
              "      <th>brand_name</th>\n",
              "      <th>price</th>\n",
              "      <th>shipping</th>\n",
              "      <th>seller_id</th>\n",
              "      <th>item_description</th>\n",
              "      <th>main_category</th>\n",
              "      <th>subcat_0</th>\n",
              "      <th>subcat_1</th>\n",
              "    </tr>\n",
              "  </thead>\n",
              "  <tbody>\n",
              "    <tr>\n",
              "      <th>0</th>\n",
              "      <td>17</td>\n",
              "      <td>Hold Alyssa Frye Harness boots 12R, Sz 7</td>\n",
              "      <td>3</td>\n",
              "      <td>Women/Shoes/Boots</td>\n",
              "      <td>Frye</td>\n",
              "      <td>79</td>\n",
              "      <td>1</td>\n",
              "      <td>211140753</td>\n",
              "      <td>Good used condition Women's Fyre harness boots...</td>\n",
              "      <td>Women</td>\n",
              "      <td>Shoes</td>\n",
              "      <td>Boots</td>\n",
              "    </tr>\n",
              "    <tr>\n",
              "      <th>1</th>\n",
              "      <td>19</td>\n",
              "      <td>Steve Madden booties</td>\n",
              "      <td>3</td>\n",
              "      <td>Women/Shoes/Boots</td>\n",
              "      <td>Steve Madden</td>\n",
              "      <td>31</td>\n",
              "      <td>0</td>\n",
              "      <td>3874531266</td>\n",
              "      <td>The brand is actually \"Steven\" by Steve Madden...</td>\n",
              "      <td>Women</td>\n",
              "      <td>Shoes</td>\n",
              "      <td>Boots</td>\n",
              "    </tr>\n",
              "    <tr>\n",
              "      <th>2</th>\n",
              "      <td>42</td>\n",
              "      <td>BCBG Tan Booties</td>\n",
              "      <td>1</td>\n",
              "      <td>Women/Shoes/Boots</td>\n",
              "      <td>missing</td>\n",
              "      <td>48</td>\n",
              "      <td>0</td>\n",
              "      <td>8341537216</td>\n",
              "      <td>Brand new! Does not include the box.</td>\n",
              "      <td>Women</td>\n",
              "      <td>Shoes</td>\n",
              "      <td>Boots</td>\n",
              "    </tr>\n",
              "    <tr>\n",
              "      <th>3</th>\n",
              "      <td>45</td>\n",
              "      <td>NWT Sorel Caribou boots size 8.5</td>\n",
              "      <td>1</td>\n",
              "      <td>Women/Shoes/Boots</td>\n",
              "      <td>missing</td>\n",
              "      <td>85</td>\n",
              "      <td>0</td>\n",
              "      <td>4040379892</td>\n",
              "      <td>New in box. Size 8.5</td>\n",
              "      <td>Women</td>\n",
              "      <td>Shoes</td>\n",
              "      <td>Boots</td>\n",
              "    </tr>\n",
              "    <tr>\n",
              "      <th>4</th>\n",
              "      <td>58</td>\n",
              "      <td>NIB Hunter Tiffany Mint Boots Size 5</td>\n",
              "      <td>1</td>\n",
              "      <td>Women/Shoes/Boots</td>\n",
              "      <td>Hunter</td>\n",
              "      <td>200</td>\n",
              "      <td>0</td>\n",
              "      <td>19216599</td>\n",
              "      <td>Brand new never worn only flaw is as you can s...</td>\n",
              "      <td>Women</td>\n",
              "      <td>Shoes</td>\n",
              "      <td>Boots</td>\n",
              "    </tr>\n",
              "  </tbody>\n",
              "</table>\n",
              "</div>\n",
              "      <button class=\"colab-df-convert\" onclick=\"convertToInteractive('df-a592a003-2e07-4c0d-99d8-9a9b16b46a03')\"\n",
              "              title=\"Convert this dataframe to an interactive table.\"\n",
              "              style=\"display:none;\">\n",
              "        \n",
              "  <svg xmlns=\"http://www.w3.org/2000/svg\" height=\"24px\"viewBox=\"0 0 24 24\"\n",
              "       width=\"24px\">\n",
              "    <path d=\"M0 0h24v24H0V0z\" fill=\"none\"/>\n",
              "    <path d=\"M18.56 5.44l.94 2.06.94-2.06 2.06-.94-2.06-.94-.94-2.06-.94 2.06-2.06.94zm-11 1L8.5 8.5l.94-2.06 2.06-.94-2.06-.94L8.5 2.5l-.94 2.06-2.06.94zm10 10l.94 2.06.94-2.06 2.06-.94-2.06-.94-.94-2.06-.94 2.06-2.06.94z\"/><path d=\"M17.41 7.96l-1.37-1.37c-.4-.4-.92-.59-1.43-.59-.52 0-1.04.2-1.43.59L10.3 9.45l-7.72 7.72c-.78.78-.78 2.05 0 2.83L4 21.41c.39.39.9.59 1.41.59.51 0 1.02-.2 1.41-.59l7.78-7.78 2.81-2.81c.8-.78.8-2.07 0-2.86zM5.41 20L4 18.59l7.72-7.72 1.47 1.35L5.41 20z\"/>\n",
              "  </svg>\n",
              "      </button>\n",
              "      \n",
              "  <style>\n",
              "    .colab-df-container {\n",
              "      display:flex;\n",
              "      flex-wrap:wrap;\n",
              "      gap: 12px;\n",
              "    }\n",
              "\n",
              "    .colab-df-convert {\n",
              "      background-color: #E8F0FE;\n",
              "      border: none;\n",
              "      border-radius: 50%;\n",
              "      cursor: pointer;\n",
              "      display: none;\n",
              "      fill: #1967D2;\n",
              "      height: 32px;\n",
              "      padding: 0 0 0 0;\n",
              "      width: 32px;\n",
              "    }\n",
              "\n",
              "    .colab-df-convert:hover {\n",
              "      background-color: #E2EBFA;\n",
              "      box-shadow: 0px 1px 2px rgba(60, 64, 67, 0.3), 0px 1px 3px 1px rgba(60, 64, 67, 0.15);\n",
              "      fill: #174EA6;\n",
              "    }\n",
              "\n",
              "    [theme=dark] .colab-df-convert {\n",
              "      background-color: #3B4455;\n",
              "      fill: #D2E3FC;\n",
              "    }\n",
              "\n",
              "    [theme=dark] .colab-df-convert:hover {\n",
              "      background-color: #434B5C;\n",
              "      box-shadow: 0px 1px 3px 1px rgba(0, 0, 0, 0.15);\n",
              "      filter: drop-shadow(0px 1px 2px rgba(0, 0, 0, 0.3));\n",
              "      fill: #FFFFFF;\n",
              "    }\n",
              "  </style>\n",
              "\n",
              "      <script>\n",
              "        const buttonEl =\n",
              "          document.querySelector('#df-a592a003-2e07-4c0d-99d8-9a9b16b46a03 button.colab-df-convert');\n",
              "        buttonEl.style.display =\n",
              "          google.colab.kernel.accessAllowed ? 'block' : 'none';\n",
              "\n",
              "        async function convertToInteractive(key) {\n",
              "          const element = document.querySelector('#df-a592a003-2e07-4c0d-99d8-9a9b16b46a03');\n",
              "          const dataTable =\n",
              "            await google.colab.kernel.invokeFunction('convertToInteractive',\n",
              "                                                     [key], {});\n",
              "          if (!dataTable) return;\n",
              "\n",
              "          const docLinkHtml = 'Like what you see? Visit the ' +\n",
              "            '<a target=\"_blank\" href=https://colab.research.google.com/notebooks/data_table.ipynb>data table notebook</a>'\n",
              "            + ' to learn more about interactive tables.';\n",
              "          element.innerHTML = '';\n",
              "          dataTable['output_type'] = 'display_data';\n",
              "          await google.colab.output.renderOutput(dataTable, element);\n",
              "          const docLink = document.createElement('div');\n",
              "          docLink.innerHTML = docLinkHtml;\n",
              "          element.appendChild(docLink);\n",
              "        }\n",
              "      </script>\n",
              "    </div>\n",
              "  </div>\n",
              "  "
            ]
          },
          "metadata": {},
          "execution_count": 446
        }
      ]
    },
    {
      "cell_type": "code",
      "source": [
        "test_data['main_category'], test_data['subcat_0'], test_data['subcat_1'] = zip(*test_data['category_name'].apply(lambda x: split_category(x)))\n",
        "test_data.head()"
      ],
      "metadata": {
        "id": "KpyK5tHV2KiX",
        "colab": {
          "base_uri": "https://localhost:8080/",
          "height": 302
        },
        "outputId": "84ff1117-397c-4731-f9dc-2ad3bfa6da44"
      },
      "execution_count": 447,
      "outputs": [
        {
          "output_type": "execute_result",
          "data": {
            "text/plain": [
              "    id                              name  item_condition_id  \\\n",
              "0   46                      Corral boots                  2   \n",
              "1   88  Vince Camuto Riding boots size 6                  2   \n",
              "2  212               Brand new UGG boots                  1   \n",
              "3  289        LL Bean Boots 8\" Red sz 7M                  3   \n",
              "4  299             Black UGGS cargo boot                  3   \n",
              "\n",
              "       category_name     brand_name  shipping   seller_id  \\\n",
              "0  Women/Shoes/Boots        missing         0  2261402465   \n",
              "1  Women/Shoes/Boots   Vince Camuto         0  2021876312   \n",
              "2  Women/Shoes/Boots  UGG Australia         0  5803720303   \n",
              "3  Women/Shoes/Boots      L.L. Bean         0  1065939786   \n",
              "4  Women/Shoes/Boots  UGG Australia         1   479394728   \n",
              "\n",
              "                                    item_description main_category subcat_0  \\\n",
              "0    Corral boots in excellent condition barely used         Women    Shoes   \n",
              "1  super cute brown or cognac knee high riding bo...         Women    Shoes   \n",
              "2                                         New in box         Women    Shoes   \n",
              "3                  Made to withstand winter climate.         Women    Shoes   \n",
              "4  Unique, super cute and warm! EUC. Only selling...         Women    Shoes   \n",
              "\n",
              "  subcat_1  \n",
              "0    Boots  \n",
              "1    Boots  \n",
              "2    Boots  \n",
              "3    Boots  \n",
              "4    Boots  "
            ],
            "text/html": [
              "\n",
              "  <div id=\"df-adb5045d-f0b8-4f7a-9929-bc6ede29c5a1\">\n",
              "    <div class=\"colab-df-container\">\n",
              "      <div>\n",
              "<style scoped>\n",
              "    .dataframe tbody tr th:only-of-type {\n",
              "        vertical-align: middle;\n",
              "    }\n",
              "\n",
              "    .dataframe tbody tr th {\n",
              "        vertical-align: top;\n",
              "    }\n",
              "\n",
              "    .dataframe thead th {\n",
              "        text-align: right;\n",
              "    }\n",
              "</style>\n",
              "<table border=\"1\" class=\"dataframe\">\n",
              "  <thead>\n",
              "    <tr style=\"text-align: right;\">\n",
              "      <th></th>\n",
              "      <th>id</th>\n",
              "      <th>name</th>\n",
              "      <th>item_condition_id</th>\n",
              "      <th>category_name</th>\n",
              "      <th>brand_name</th>\n",
              "      <th>shipping</th>\n",
              "      <th>seller_id</th>\n",
              "      <th>item_description</th>\n",
              "      <th>main_category</th>\n",
              "      <th>subcat_0</th>\n",
              "      <th>subcat_1</th>\n",
              "    </tr>\n",
              "  </thead>\n",
              "  <tbody>\n",
              "    <tr>\n",
              "      <th>0</th>\n",
              "      <td>46</td>\n",
              "      <td>Corral boots</td>\n",
              "      <td>2</td>\n",
              "      <td>Women/Shoes/Boots</td>\n",
              "      <td>missing</td>\n",
              "      <td>0</td>\n",
              "      <td>2261402465</td>\n",
              "      <td>Corral boots in excellent condition barely used</td>\n",
              "      <td>Women</td>\n",
              "      <td>Shoes</td>\n",
              "      <td>Boots</td>\n",
              "    </tr>\n",
              "    <tr>\n",
              "      <th>1</th>\n",
              "      <td>88</td>\n",
              "      <td>Vince Camuto Riding boots size 6</td>\n",
              "      <td>2</td>\n",
              "      <td>Women/Shoes/Boots</td>\n",
              "      <td>Vince Camuto</td>\n",
              "      <td>0</td>\n",
              "      <td>2021876312</td>\n",
              "      <td>super cute brown or cognac knee high riding bo...</td>\n",
              "      <td>Women</td>\n",
              "      <td>Shoes</td>\n",
              "      <td>Boots</td>\n",
              "    </tr>\n",
              "    <tr>\n",
              "      <th>2</th>\n",
              "      <td>212</td>\n",
              "      <td>Brand new UGG boots</td>\n",
              "      <td>1</td>\n",
              "      <td>Women/Shoes/Boots</td>\n",
              "      <td>UGG Australia</td>\n",
              "      <td>0</td>\n",
              "      <td>5803720303</td>\n",
              "      <td>New in box</td>\n",
              "      <td>Women</td>\n",
              "      <td>Shoes</td>\n",
              "      <td>Boots</td>\n",
              "    </tr>\n",
              "    <tr>\n",
              "      <th>3</th>\n",
              "      <td>289</td>\n",
              "      <td>LL Bean Boots 8\" Red sz 7M</td>\n",
              "      <td>3</td>\n",
              "      <td>Women/Shoes/Boots</td>\n",
              "      <td>L.L. Bean</td>\n",
              "      <td>0</td>\n",
              "      <td>1065939786</td>\n",
              "      <td>Made to withstand winter climate.</td>\n",
              "      <td>Women</td>\n",
              "      <td>Shoes</td>\n",
              "      <td>Boots</td>\n",
              "    </tr>\n",
              "    <tr>\n",
              "      <th>4</th>\n",
              "      <td>299</td>\n",
              "      <td>Black UGGS cargo boot</td>\n",
              "      <td>3</td>\n",
              "      <td>Women/Shoes/Boots</td>\n",
              "      <td>UGG Australia</td>\n",
              "      <td>1</td>\n",
              "      <td>479394728</td>\n",
              "      <td>Unique, super cute and warm! EUC. Only selling...</td>\n",
              "      <td>Women</td>\n",
              "      <td>Shoes</td>\n",
              "      <td>Boots</td>\n",
              "    </tr>\n",
              "  </tbody>\n",
              "</table>\n",
              "</div>\n",
              "      <button class=\"colab-df-convert\" onclick=\"convertToInteractive('df-adb5045d-f0b8-4f7a-9929-bc6ede29c5a1')\"\n",
              "              title=\"Convert this dataframe to an interactive table.\"\n",
              "              style=\"display:none;\">\n",
              "        \n",
              "  <svg xmlns=\"http://www.w3.org/2000/svg\" height=\"24px\"viewBox=\"0 0 24 24\"\n",
              "       width=\"24px\">\n",
              "    <path d=\"M0 0h24v24H0V0z\" fill=\"none\"/>\n",
              "    <path d=\"M18.56 5.44l.94 2.06.94-2.06 2.06-.94-2.06-.94-.94-2.06-.94 2.06-2.06.94zm-11 1L8.5 8.5l.94-2.06 2.06-.94-2.06-.94L8.5 2.5l-.94 2.06-2.06.94zm10 10l.94 2.06.94-2.06 2.06-.94-2.06-.94-.94-2.06-.94 2.06-2.06.94z\"/><path d=\"M17.41 7.96l-1.37-1.37c-.4-.4-.92-.59-1.43-.59-.52 0-1.04.2-1.43.59L10.3 9.45l-7.72 7.72c-.78.78-.78 2.05 0 2.83L4 21.41c.39.39.9.59 1.41.59.51 0 1.02-.2 1.41-.59l7.78-7.78 2.81-2.81c.8-.78.8-2.07 0-2.86zM5.41 20L4 18.59l7.72-7.72 1.47 1.35L5.41 20z\"/>\n",
              "  </svg>\n",
              "      </button>\n",
              "      \n",
              "  <style>\n",
              "    .colab-df-container {\n",
              "      display:flex;\n",
              "      flex-wrap:wrap;\n",
              "      gap: 12px;\n",
              "    }\n",
              "\n",
              "    .colab-df-convert {\n",
              "      background-color: #E8F0FE;\n",
              "      border: none;\n",
              "      border-radius: 50%;\n",
              "      cursor: pointer;\n",
              "      display: none;\n",
              "      fill: #1967D2;\n",
              "      height: 32px;\n",
              "      padding: 0 0 0 0;\n",
              "      width: 32px;\n",
              "    }\n",
              "\n",
              "    .colab-df-convert:hover {\n",
              "      background-color: #E2EBFA;\n",
              "      box-shadow: 0px 1px 2px rgba(60, 64, 67, 0.3), 0px 1px 3px 1px rgba(60, 64, 67, 0.15);\n",
              "      fill: #174EA6;\n",
              "    }\n",
              "\n",
              "    [theme=dark] .colab-df-convert {\n",
              "      background-color: #3B4455;\n",
              "      fill: #D2E3FC;\n",
              "    }\n",
              "\n",
              "    [theme=dark] .colab-df-convert:hover {\n",
              "      background-color: #434B5C;\n",
              "      box-shadow: 0px 1px 3px 1px rgba(0, 0, 0, 0.15);\n",
              "      filter: drop-shadow(0px 1px 2px rgba(0, 0, 0, 0.3));\n",
              "      fill: #FFFFFF;\n",
              "    }\n",
              "  </style>\n",
              "\n",
              "      <script>\n",
              "        const buttonEl =\n",
              "          document.querySelector('#df-adb5045d-f0b8-4f7a-9929-bc6ede29c5a1 button.colab-df-convert');\n",
              "        buttonEl.style.display =\n",
              "          google.colab.kernel.accessAllowed ? 'block' : 'none';\n",
              "\n",
              "        async function convertToInteractive(key) {\n",
              "          const element = document.querySelector('#df-adb5045d-f0b8-4f7a-9929-bc6ede29c5a1');\n",
              "          const dataTable =\n",
              "            await google.colab.kernel.invokeFunction('convertToInteractive',\n",
              "                                                     [key], {});\n",
              "          if (!dataTable) return;\n",
              "\n",
              "          const docLinkHtml = 'Like what you see? Visit the ' +\n",
              "            '<a target=\"_blank\" href=https://colab.research.google.com/notebooks/data_table.ipynb>data table notebook</a>'\n",
              "            + ' to learn more about interactive tables.';\n",
              "          element.innerHTML = '';\n",
              "          dataTable['output_type'] = 'display_data';\n",
              "          await google.colab.output.renderOutput(dataTable, element);\n",
              "          const docLink = document.createElement('div');\n",
              "          docLink.innerHTML = docLinkHtml;\n",
              "          element.appendChild(docLink);\n",
              "        }\n",
              "      </script>\n",
              "    </div>\n",
              "  </div>\n",
              "  "
            ]
          },
          "metadata": {},
          "execution_count": 447
        }
      ]
    },
    {
      "cell_type": "markdown",
      "source": [
        "# **3. Exploratery Data analysis**"
      ],
      "metadata": {
        "id": "Vh4jqyxszHsm"
      }
    },
    {
      "cell_type": "markdown",
      "source": [
        "### **3.1 : Basic EDA: Analyzing columns of train data**"
      ],
      "metadata": {
        "id": "CDiCdXrszbQK"
      }
    },
    {
      "cell_type": "markdown",
      "source": [
        "## **3.1.1 : name**"
      ],
      "metadata": {
        "id": "OfZGuC0Isf1r"
      }
    },
    {
      "cell_type": "code",
      "source": [
        "train_data.name.describe()"
      ],
      "metadata": {
        "colab": {
          "base_uri": "https://localhost:8080/"
        },
        "id": "5ztDY0IHr1XL",
        "outputId": "92c34693-a228-4bf9-b11b-bbb03740a4ad"
      },
      "execution_count": 448,
      "outputs": [
        {
          "output_type": "execute_result",
          "data": {
            "text/plain": [
              "count      68400\n",
              "unique     59282\n",
              "top       Bundle\n",
              "freq         114\n",
              "Name: name, dtype: object"
            ]
          },
          "metadata": {},
          "execution_count": 448
        }
      ]
    },
    {
      "cell_type": "markdown",
      "source": [
        "- There are 59282 unique product names in the raw data(before pre-processing). The most common product name is “Bundle”, which occurs in 114 data points."
      ],
      "metadata": {
        "id": "8NCJ5b5dr_Mx"
      }
    },
    {
      "cell_type": "markdown",
      "source": [
        "## **3.1.2 : item_condition_id**"
      ],
      "metadata": {
        "id": "UHJL0-Kpztiz"
      }
    },
    {
      "cell_type": "code",
      "source": [
        "train_data.item_condition_id.describe()"
      ],
      "metadata": {
        "id": "1ExBx31ni1Dk",
        "colab": {
          "base_uri": "https://localhost:8080/"
        },
        "outputId": "d972e674-086d-4715-f74d-5a289749d7d9"
      },
      "execution_count": 449,
      "outputs": [
        {
          "output_type": "execute_result",
          "data": {
            "text/plain": [
              "count    68400.000000\n",
              "mean         2.131652\n",
              "std          0.839697\n",
              "min          1.000000\n",
              "25%          1.000000\n",
              "50%          2.000000\n",
              "75%          3.000000\n",
              "max          5.000000\n",
              "Name: item_condition_id, dtype: float64"
            ]
          },
          "metadata": {},
          "execution_count": 449
        }
      ]
    },
    {
      "cell_type": "code",
      "source": [
        "condition_count = Counter(list(train_data.item_condition_id))\n",
        "x, y = zip(*condition_count.most_common())\n",
        "plt.figure(figsize=[13,7])\n",
        "plt.bar(x,y)\n",
        "for i, val in enumerate(y):\n",
        "  plt.annotate(val, (x[i], y[i]))\n",
        "plt.title('Counts of products in different item conditions')\n",
        "plt.xlabel('Condition id')\n",
        "plt.ylabel('count')\n",
        "\n",
        "plt.show()"
      ],
      "metadata": {
        "id": "lWsAKE4Imjsi",
        "colab": {
          "base_uri": "https://localhost:8080/",
          "height": 458
        },
        "outputId": "4ee0bddc-4dfc-459e-8306-c7ed93bf0ffc"
      },
      "execution_count": 450,
      "outputs": [
        {
          "output_type": "display_data",
          "data": {
            "text/plain": [
              "<Figure size 936x504 with 1 Axes>"
            ],
            "image/png": "[encoded data removed]"
          },
          "metadata": {
            "needs_background": "light"
          }
        }
      ]
    },
    {
      "cell_type": "markdown",
      "source": [
        "- The majority of the items are in condition 2 and 3. There are very few items which are in condition 5."
      ],
      "metadata": {
        "id": "DZcK2-qlsy_E"
      }
    },
    {
      "cell_type": "markdown",
      "source": [
        "## **3.1.3 : brand_name**"
      ],
      "metadata": {
        "id": "ipnldCAb0Ptf"
      }
    },
    {
      "cell_type": "code",
      "source": [
        "train_data.brand_name.describe()"
      ],
      "metadata": {
        "id": "MuiaO-30UKOh",
        "colab": {
          "base_uri": "https://localhost:8080/"
        },
        "outputId": "8532eb56-d1ec-46f6-da00-dbf1b473c63e"
      },
      "execution_count": 451,
      "outputs": [
        {
          "output_type": "execute_result",
          "data": {
            "text/plain": [
              "count       68400\n",
              "unique       1084\n",
              "top       missing\n",
              "freq        21465\n",
              "Name: brand_name, dtype: object"
            ]
          },
          "metadata": {},
          "execution_count": 451
        }
      ]
    },
    {
      "cell_type": "code",
      "source": [
        "brand_missing = train_data[train_data.brand_name == 'missing'].shape[0]\n",
        "print('Brand name is missing for {} datapoints, {:.2f} % of train data'.format(brand_missing, 100.0*brand_missing/train_data.shape[0]))"
      ],
      "metadata": {
        "id": "-iAu_ErzbCOw",
        "colab": {
          "base_uri": "https://localhost:8080/"
        },
        "outputId": "a429e576-aff4-4d4f-f274-a6e3cda3cc9d"
      },
      "execution_count": 452,
      "outputs": [
        {
          "output_type": "stream",
          "name": "stdout",
          "text": [
            "Brand name is missing for 21465 datapoints, 31.38 % of train data\n"
          ]
        }
      ]
    },
    {
      "cell_type": "code",
      "source": [
        "brand_count = Counter(list(train_data.brand_name.values))\n",
        "x, y = zip(*brand_count.most_common(15))\n",
        "\n",
        "plt.figure(figsize=[8,10])\n",
        "plt.barh(x,y)\n",
        "for i, val in enumerate(y):\n",
        "  plt.annotate(val, (y[i], x[i]))\n",
        "plt.gca().invert_yaxis()\n",
        "plt.title('Most common 15 brands')\n",
        "plt.ylabel('Brand name')\n",
        "plt.xlabel('count')\n",
        "plt.grid(axis = 'x', linestyle = '--')\n",
        "plt.show()"
      ],
      "metadata": {
        "id": "5mOP1AsWc_04",
        "colab": {
          "base_uri": "https://localhost:8080/",
          "height": 621
        },
        "outputId": "8cb13e32-32b9-4bac-b568-3d1118be3b9c"
      },
      "execution_count": 453,
      "outputs": [
        {
          "output_type": "display_data",
          "data": {
            "text/plain": [
              "<Figure size 576x720 with 1 Axes>"
            ],
            "image/png": "[encoded data removed]"
          },
          "metadata": {
            "needs_background": "light"
          }
        }
      ]
    },
    {
      "cell_type": "markdown",
      "source": [
        "- Through this distribution plot, we can understand that most of the product listed without brand name."
      ],
      "metadata": {
        "id": "TDPiLJIdtG26"
      }
    },
    {
      "cell_type": "markdown",
      "source": [
        "## **3.1.4 : price**"
      ],
      "metadata": {
        "id": "Uq8kqOMr0X7m"
      }
    },
    {
      "cell_type": "markdown",
      "source": [
        "- This is the target variable or ‘y’ in our train data. We need to predict this for test data. So it is important to analysis the price distribution."
      ],
      "metadata": {
        "id": "sqB2SlBGuTmL"
      }
    },
    {
      "cell_type": "code",
      "source": [
        "# invalid price\n",
        "train_data.price.describe()"
      ],
      "metadata": {
        "id": "ZHArZf5iL376",
        "colab": {
          "base_uri": "https://localhost:8080/"
        },
        "outputId": "2ccbc449-c7cd-4c29-bb28-de078f27c8f2"
      },
      "execution_count": 454,
      "outputs": [
        {
          "output_type": "execute_result",
          "data": {
            "text/plain": [
              "count    68400.000000\n",
              "mean        22.881915\n",
              "std         28.613151\n",
              "min          3.000000\n",
              "25%          9.000000\n",
              "50%         15.000000\n",
              "75%         28.000000\n",
              "max       1375.000000\n",
              "Name: price, dtype: float64"
            ]
          },
          "metadata": {},
          "execution_count": 454
        }
      ]
    },
    {
      "cell_type": "markdown",
      "source": [
        "- So, from the describe table we can conclude that:\n",
        "\n",
        " - 25% of the products are priced below 10 dollar.\n",
        " - 50% of products are priced almost 15 dollar.  \n",
        " - 75% of products are priced listed as 28 dollar.\n",
        " -  Also, the maximum price that any product has is 1375$.\n"
      ],
      "metadata": {
        "id": "ZAFJ9zOfuu6w"
      }
    },
    {
      "cell_type": "code",
      "source": [
        "plt.figure(figsize=[10,4])\n",
        "plt.title('Price distribution')\n",
        "sns.boxplot(train_data.price,showfliers=False)\n",
        "plt.xlabel('Price')\n",
        "\n",
        "plt.show()"
      ],
      "metadata": {
        "id": "4ep7GqbVkMOz",
        "colab": {
          "base_uri": "https://localhost:8080/",
          "height": 350
        },
        "outputId": "520ce73a-d98b-4bef-85e2-6580f5855254"
      },
      "execution_count": 455,
      "outputs": [
        {
          "output_type": "stream",
          "name": "stderr",
          "text": [
            "/usr/local/lib/python3.7/dist-packages/seaborn/_decorators.py:43: FutureWarning: Pass the following variable as a keyword arg: x. From version 0.12, the only valid positional argument will be `data`, and passing other arguments without an explicit keyword will result in an error or misinterpretation.\n",
            "  FutureWarning\n"
          ]
        },
        {
          "output_type": "display_data",
          "data": {
            "text/plain": [
              "<Figure size 720x288 with 1 Axes>"
            ],
            "image/png": "[encoded data removed]"
          },
          "metadata": {
            "needs_background": "light"
          }
        }
      ]
    },
    {
      "cell_type": "markdown",
      "source": [
        "- We can see most of the items have the price value between 25-28.And all the items have their price listings between 8-28"
      ],
      "metadata": {
        "id": "7G0pVir46k42"
      }
    },
    {
      "cell_type": "code",
      "source": [
        "# Price distribution Histogram\n",
        "fig, ax = plt.subplots(figsize=(13,5))\n",
        "ax.hist(train_data.price,bins=30,range=[min(train_data.price), max(train_data.price)+100],label='Price')\n",
        "plt.title('Price Distribution')\n",
        "ax.set_xlabel('Price')\n",
        "ax.set_ylabel('No of items')\n",
        "\n",
        "plt.show()\n",
        "\n",
        "## outliers present till 1400"
      ],
      "metadata": {
        "id": "miHGT-S3Pn0-",
        "colab": {
          "base_uri": "https://localhost:8080/",
          "height": 350
        },
        "outputId": "9e5850f5-3157-4ec3-d669-b9501cc1b12c"
      },
      "execution_count": 456,
      "outputs": [
        {
          "output_type": "display_data",
          "data": {
            "text/plain": [
              "<Figure size 936x360 with 1 Axes>"
            ],
            "image/png": "[encoded data removed]"
          },
          "metadata": {
            "needs_background": "light"
          }
        }
      ]
    },
    {
      "cell_type": "markdown",
      "source": [
        "- It can concluded that the distribution of the ‘price’ variable is heavily right-skewed. As the ‘price’ variable followed a skewed distribution , in order to make errors on low price product more relevant than for higher prices, the metric of evaluation use is Root Mean Squared Logarithmic Error (RMSLE). \n",
        "- Thus, I applied the log transformation to the price target variable, to make this assumption available for model training.So, we have to scale down the ‘price’ feature to log scale."
      ],
      "metadata": {
        "id": "NuPk-tCpwrIQ"
      }
    },
    {
      "cell_type": "code",
      "source": [
        "train_data['log_price'] = np.log(train_data['price']+1)"
      ],
      "metadata": {
        "id": "f8DTe79MR89B"
      },
      "execution_count": 457,
      "outputs": []
    },
    {
      "cell_type": "code",
      "source": [
        "# Price distribution Histogram using log(price+1)\n",
        "fig, ax = plt.subplots(figsize=(13,5))\n",
        "ax.hist(train_data.log_price,bins=30,range=[0,7],label='Price')\n",
        "plt.title('Price Distribution')\n",
        "plt.xlabel('log(Price+1)')\n",
        "plt.ylabel('No of items')\n",
        "\n",
        "plt.show()"
      ],
      "metadata": {
        "id": "HBROE_BESzCH",
        "colab": {
          "base_uri": "https://localhost:8080/",
          "height": 350
        },
        "outputId": "72b7b597-e657-4dc3-8a98-3cee222f8ff8"
      },
      "execution_count": 458,
      "outputs": [
        {
          "output_type": "display_data",
          "data": {
            "text/plain": [
              "<Figure size 936x360 with 1 Axes>"
            ],
            "image/png": "[encoded data removed]"
          },
          "metadata": {
            "needs_background": "light"
          }
        }
      ]
    },
    {
      "cell_type": "markdown",
      "source": [
        "- Histogram gives a better representation than box-plot and doesn’t look skewed anymore on changing it to log scale. "
      ],
      "metadata": {
        "id": "aDHhRUd8xew2"
      }
    },
    {
      "cell_type": "code",
      "source": [
        "# price percentage\n",
        "for i in range(0, 100, 10):\n",
        "  var = train_data['price'].values\n",
        "  var = np.sort(var)\n",
        "  le = len(var)\n",
        "  print('{} percentile of items have price {} USD'.format(i, var[int(le*(float(i)/100))]))\n"
      ],
      "metadata": {
        "id": "AO9bR6BpK4VA",
        "colab": {
          "base_uri": "https://localhost:8080/"
        },
        "outputId": "e3efbbec-4d93-41c3-8eb4-67691e3087b9"
      },
      "execution_count": 459,
      "outputs": [
        {
          "output_type": "stream",
          "name": "stdout",
          "text": [
            "0 percentile of items have price 3 USD\n",
            "10 percentile of items have price 5 USD\n",
            "20 percentile of items have price 8 USD\n",
            "30 percentile of items have price 10 USD\n",
            "40 percentile of items have price 12 USD\n",
            "50 percentile of items have price 15 USD\n",
            "60 percentile of items have price 20 USD\n",
            "70 percentile of items have price 25 USD\n",
            "80 percentile of items have price 32 USD\n",
            "90 percentile of items have price 45 USD\n"
          ]
        }
      ]
    },
    {
      "cell_type": "code",
      "source": [
        "for i in range(90, 100, 1):\n",
        "  var = train_data['price'].values\n",
        "  var = np.sort(var)\n",
        "  le = len(var)\n",
        "  print('{} percentile of items have price {} USD'.format(i, var[int(le*(float(i)/100))]))\n",
        "print('100 percentile of items have price ', var[-1])"
      ],
      "metadata": {
        "id": "OQLRAT65Onnv",
        "colab": {
          "base_uri": "https://localhost:8080/"
        },
        "outputId": "140a8cb4-3145-409f-8659-2064aed6e372"
      },
      "execution_count": 460,
      "outputs": [
        {
          "output_type": "stream",
          "name": "stdout",
          "text": [
            "90 percentile of items have price 45 USD\n",
            "91 percentile of items have price 50 USD\n",
            "92 percentile of items have price 50 USD\n",
            "93 percentile of items have price 55 USD\n",
            "94 percentile of items have price 60 USD\n",
            "95 percentile of items have price 64 USD\n",
            "96 percentile of items have price 70 USD\n",
            "97 percentile of items have price 80 USD\n",
            "98 percentile of items have price 90 USD\n",
            "99 percentile of items have price 124 USD\n",
            "100 percentile of items have price  1375\n"
          ]
        }
      ]
    },
    {
      "cell_type": "markdown",
      "source": [
        "- From this analysis we can understand, 99 percentile of the items have a price lower than $125. "
      ],
      "metadata": {
        "id": "3Emp3wCRuOUq"
      }
    },
    {
      "cell_type": "markdown",
      "source": [
        "## **3.1.5 : item_description**"
      ],
      "metadata": {
        "id": "5XBtN6ir0fmL"
      }
    },
    {
      "cell_type": "code",
      "source": [
        "train_data.item_description.describe()"
      ],
      "metadata": {
        "id": "F4wDyelgimZB",
        "colab": {
          "base_uri": "https://localhost:8080/"
        },
        "outputId": "41e5224b-eb85-4b22-8ec9-8626c65af98a"
      },
      "execution_count": 461,
      "outputs": [
        {
          "output_type": "execute_result",
          "data": {
            "text/plain": [
              "count                    68400\n",
              "unique                   57532\n",
              "top       No description given\n",
              "freq                      6810\n",
              "Name: item_description, dtype: object"
            ]
          },
          "metadata": {},
          "execution_count": 461
        }
      ]
    },
    {
      "cell_type": "code",
      "source": [
        "description_missing = train_data[train_data.item_description == 'No description given'].shape[0]\n",
        "print('Item description is missing for {} datapoints, {:.3f} % of train data.'.format(description_missing, 100.0*description_missing/train_data.shape[0]))"
      ],
      "metadata": {
        "id": "cupHAKSTJOUr",
        "colab": {
          "base_uri": "https://localhost:8080/"
        },
        "outputId": "67eebb05-6676-4023-ce27-a1366d042fd8"
      },
      "execution_count": 462,
      "outputs": [
        {
          "output_type": "stream",
          "name": "stdout",
          "text": [
            "Item description is missing for 6810 datapoints, 9.956 % of train data.\n"
          ]
        }
      ]
    },
    {
      "cell_type": "markdown",
      "source": [
        "## **3.1.6 : Shipping**"
      ],
      "metadata": {
        "id": "nor_TJmi1M8L"
      }
    },
    {
      "cell_type": "code",
      "source": [
        "print(\"0: shipping charges paid by seller\")\n",
        "print(\"1: shipping charges paid by buyers\")\n",
        "print(\"COUNT:\\n\",train_data['shipping'].value_counts())\n",
        "print(\"Fraction:\\n\",train_data['shipping'].value_counts(normalize=True))"
      ],
      "metadata": {
        "id": "7v6Rz-L3dUem",
        "colab": {
          "base_uri": "https://localhost:8080/"
        },
        "outputId": "8d54af1e-8e2e-4a90-d0e3-fb60bc74daa3"
      },
      "execution_count": 463,
      "outputs": [
        {
          "output_type": "stream",
          "name": "stdout",
          "text": [
            "0: shipping charges paid by seller\n",
            "1: shipping charges paid by buyers\n",
            "COUNT:\n",
            " 0    42748\n",
            "1    25652\n",
            "Name: shipping, dtype: int64\n",
            "Fraction:\n",
            " 0    0.624971\n",
            "1    0.375029\n",
            "Name: shipping, dtype: float64\n"
          ]
        }
      ]
    },
    {
      "cell_type": "code",
      "source": [
        "#Boxplot shipping vs logPrice\n",
        "sns.boxplot(x=train_data.shipping,y=train_data.log_price,orient='v') "
      ],
      "metadata": {
        "id": "t1pMCd55D48I",
        "colab": {
          "base_uri": "https://localhost:8080/",
          "height": 296
        },
        "outputId": "9dc3aef4-2cf9-4313-8d6a-ee2ea523e63e"
      },
      "execution_count": 464,
      "outputs": [
        {
          "output_type": "execute_result",
          "data": {
            "text/plain": [
              "<matplotlib.axes._subplots.AxesSubplot at 0x7f220a077190>"
            ]
          },
          "metadata": {},
          "execution_count": 464
        },
        {
          "output_type": "display_data",
          "data": {
            "text/plain": [
              "<Figure size 432x288 with 1 Axes>"
            ],
            "image/png": "[encoded data removed]"
          },
          "metadata": {
            "needs_background": "light"
          }
        }
      ]
    },
    {
      "cell_type": "markdown",
      "source": [
        "- Here, we can see that for items which have lesser price, the shipping had to be paid by the buyer for profit reasons. Also, as the price increases, we can see that the shipping charges have been paid by the seller. This trend is what is usually observed when we buy products online and our ‘price’ value is less than a certain threshold for free shipping."
      ],
      "metadata": {
        "id": "yBfvoVQ307_d"
      }
    },
    {
      "cell_type": "markdown",
      "source": [
        "## **3.1.6 : Analysis the sub-categories**"
      ],
      "metadata": {
        "id": "wmpkwFpr032-"
      }
    },
    {
      "cell_type": "code",
      "source": [
        "# main category analysis\n",
        "train_data.main_category.describe()"
      ],
      "metadata": {
        "id": "TXKTFXbBKOrw",
        "colab": {
          "base_uri": "https://localhost:8080/"
        },
        "outputId": "552a791e-193b-48cd-c392-03dfde6c76e4"
      },
      "execution_count": 465,
      "outputs": [
        {
          "output_type": "execute_result",
          "data": {
            "text/plain": [
              "count     68400\n",
              "unique        1\n",
              "top       Women\n",
              "freq      68400\n",
              "Name: main_category, dtype: object"
            ]
          },
          "metadata": {},
          "execution_count": 465
        }
      ]
    },
    {
      "cell_type": "markdown",
      "source": [
        "- Main Category only consist Women category product.\n"
      ],
      "metadata": {
        "id": "3Z8JUjV_1pqG"
      }
    },
    {
      "cell_type": "code",
      "source": [
        "train_data.subcat_0.describe()"
      ],
      "metadata": {
        "id": "3icnAIVs8Dxq",
        "colab": {
          "base_uri": "https://localhost:8080/"
        },
        "outputId": "e5c2b35d-5ef8-46c1-cf85-6b47b643d304"
      },
      "execution_count": 466,
      "outputs": [
        {
          "output_type": "execute_result",
          "data": {
            "text/plain": [
              "count              68400\n",
              "unique                11\n",
              "top       Tops & blouses\n",
              "freq               16637\n",
              "Name: subcat_0, dtype: object"
            ]
          },
          "metadata": {},
          "execution_count": 466
        }
      ]
    },
    {
      "cell_type": "markdown",
      "source": [
        "- In ‘Subcategory 0’, there are about 11 unique categories. Exploring items distribution with highest frequency in Subcategory-1."
      ],
      "metadata": {
        "id": "b0IVXOs819jo"
      }
    },
    {
      "cell_type": "code",
      "source": [
        "subcat0_count = Counter(list(train_data.subcat_0.values))\n",
        "x, y = zip(*subcat0_count.most_common(11))\n",
        "\n",
        "plt.figure(figsize=[8,10])\n",
        "plt.barh(x,y)\n",
        "for i, val in enumerate(y):\n",
        "  plt.annotate(val, (y[i], x[i]))\n",
        "plt.gca().invert_yaxis()\n",
        "plt.title('Most common sub-category under women category')\n",
        "plt.ylabel('Subcategory_0')\n",
        "plt.xlabel('count')\n",
        "\n",
        "plt.show()"
      ],
      "metadata": {
        "id": "F16DYENl8jcl",
        "colab": {
          "base_uri": "https://localhost:8080/",
          "height": 621
        },
        "outputId": "36280bab-5ed3-41c6-c88d-820a5258f3f3"
      },
      "execution_count": 467,
      "outputs": [
        {
          "output_type": "display_data",
          "data": {
            "text/plain": [
              "<Figure size 576x720 with 1 Axes>"
            ],
            "image/png": "[encoded data removed]"
          },
          "metadata": {
            "needs_background": "light"
          }
        }
      ]
    },
    {
      "cell_type": "code",
      "source": [
        "plt.figure()\n",
        "sns.barplot(y='subcat_0', x='price',data=train_data)\n",
        "plt.title('Mean price of various subcategories under women category')\n",
        "plt.show()"
      ],
      "metadata": {
        "id": "MtBq9Q8_CLhu",
        "colab": {
          "base_uri": "https://localhost:8080/",
          "height": 295
        },
        "outputId": "369951bb-f843-408e-f1c9-1d5ded5e57a8"
      },
      "execution_count": 468,
      "outputs": [
        {
          "output_type": "display_data",
          "data": {
            "text/plain": [
              "<Figure size 432x288 with 1 Axes>"
            ],
            "image/png": "[encoded data removed]"
          },
          "metadata": {
            "needs_background": "light"
          }
        }
      ]
    },
    {
      "cell_type": "markdown",
      "source": [
        "- Here we can observe under women category, women's handbag has highest price with 2661 items sold. Whereas top & blouses is the most buying product with priced less than 20 dollars."
      ],
      "metadata": {
        "id": "2duFpspU23ID"
      }
    },
    {
      "cell_type": "code",
      "source": [
        "train_data.subcat_1.describe()"
      ],
      "metadata": {
        "id": "g-eLGHKo-93N",
        "colab": {
          "base_uri": "https://localhost:8080/"
        },
        "outputId": "6398f746-0f7e-4957-ffc8-e0a60f0e6901"
      },
      "execution_count": 469,
      "outputs": [
        {
          "output_type": "execute_result",
          "data": {
            "text/plain": [
              "count                       68400\n",
              "unique                         23\n",
              "top       Pants, tights, leggings\n",
              "freq                         9371\n",
              "Name: subcat_1, dtype: object"
            ]
          },
          "metadata": {},
          "execution_count": 469
        }
      ]
    },
    {
      "cell_type": "markdown",
      "source": [
        "- In ‘Subcategory 1’, there are about 23 unique categories."
      ],
      "metadata": {
        "id": "-uJOGZnP5BCf"
      }
    },
    {
      "cell_type": "code",
      "source": [
        "subcat1_count = Counter(list(train_data.subcat_1.values))\n",
        "x, y = zip(*subcat1_count.most_common(15))\n",
        "\n",
        "plt.figure(figsize=[8,10])\n",
        "plt.barh(x,y)\n",
        "for i, val in enumerate(y):\n",
        "  plt.annotate(val, (y[i], x[i]))\n",
        "plt.gca().invert_yaxis()\n",
        "plt.title('Sub category_1 analysis')\n",
        "plt.ylabel('Subcategory_1')\n",
        "plt.xlabel('count')\n",
        "\n",
        "plt.show()"
      ],
      "metadata": {
        "id": "MUPMrWs8_aTE",
        "colab": {
          "base_uri": "https://localhost:8080/",
          "height": 621
        },
        "outputId": "c20aeea1-ad88-4059-beba-2d7d3fd0ded1"
      },
      "execution_count": 470,
      "outputs": [
        {
          "output_type": "display_data",
          "data": {
            "text/plain": [
              "<Figure size 576x720 with 1 Axes>"
            ],
            "image/png": "[encoded data removed]"
          },
          "metadata": {
            "needs_background": "light"
          }
        }
      ]
    },
    {
      "cell_type": "markdown",
      "source": [
        "- ‘Pants,Tights,Leggings’ occur with the maximum frequency in Sub category 1."
      ],
      "metadata": {
        "id": "6av_sCIG4sVd"
      }
    },
    {
      "cell_type": "code",
      "source": [
        "plt.figure(figsize=(8,10))\n",
        "sns.barplot(y='subcat_1', x='price',data=train_data, estimator=np.median)\n",
        "plt.title('Median price of various subcategories under women category')\n",
        "plt.show()"
      ],
      "metadata": {
        "id": "AA0_FuuxC0Hq",
        "colab": {
          "base_uri": "https://localhost:8080/",
          "height": 621
        },
        "outputId": "1be23d9c-c1cd-43fd-8481-a0310cc2b863"
      },
      "execution_count": 471,
      "outputs": [
        {
          "output_type": "display_data",
          "data": {
            "text/plain": [
              "<Figure size 576x720 with 1 Axes>"
            ],
            "image/png": "[encoded data removed]"
          },
          "metadata": {
            "needs_background": "light"
          }
        }
      ]
    },
    {
      "cell_type": "markdown",
      "source": [
        "## **3.2 : Plotting Correlation matrix:**"
      ],
      "metadata": {
        "id": "J9xitNTI5mpK"
      }
    },
    {
      "cell_type": "markdown",
      "source": [
        "- A correlation matrix is basically a covariance matrix that is a very good technique of multivariate exploration. We have so many features already present in our data set. \n",
        "-  A positive value of correlation suggests a stronger association and vice-versa."
      ],
      "metadata": {
        "id": "G_1voL2U5-nc"
      }
    },
    {
      "cell_type": "code",
      "source": [
        "columns = list(train_data.columns)\n",
        "plt.figure(figsize = (10, 10))\n",
        "sns.heatmap(train_data[columns].corr(), annot = True, linewidth = 0.5)\n",
        "plt.show()"
      ],
      "metadata": {
        "id": "hfyt3l-7i9mL",
        "colab": {
          "base_uri": "https://localhost:8080/",
          "height": 596
        },
        "outputId": "7bbd90a3-e25f-4334-c708-db3e9c92754d"
      },
      "execution_count": 472,
      "outputs": [
        {
          "output_type": "display_data",
          "data": {
            "text/plain": [
              "<Figure size 720x720 with 2 Axes>"
            ],
            "image/png": "[encoded data removed]"
          },
          "metadata": {
            "needs_background": "light"
          }
        }
      ]
    },
    {
      "cell_type": "code",
      "source": [
        "y_train = np.log(train_data[\"price\"]+1)\n",
        "train_ids = train_data['id'].values.astype(np.int32)\n",
        "train_data.drop(['price', 'id','log_price','main_category', 'seller_id'], axis=1, inplace=True)"
      ],
      "metadata": {
        "id": "zMqLhIUEd76e"
      },
      "execution_count": 473,
      "outputs": []
    },
    {
      "cell_type": "code",
      "source": [
        "y_train"
      ],
      "metadata": {
        "colab": {
          "base_uri": "https://localhost:8080/"
        },
        "id": "NwryZ4sbTQ4k",
        "outputId": "743626d4-c686-41f0-d819-788511f24fb7"
      },
      "execution_count": 474,
      "outputs": [
        {
          "output_type": "execute_result",
          "data": {
            "text/plain": [
              "0        4.382027\n",
              "1        3.465736\n",
              "2        3.891820\n",
              "3        4.454347\n",
              "4        5.303305\n",
              "           ...   \n",
              "68395    4.262680\n",
              "68396    4.262680\n",
              "68397    4.262680\n",
              "68398    4.262680\n",
              "68399    4.262680\n",
              "Name: price, Length: 68400, dtype: float64"
            ]
          },
          "metadata": {},
          "execution_count": 474
        }
      ]
    },
    {
      "cell_type": "code",
      "source": [
        "train_data.head()"
      ],
      "metadata": {
        "id": "VQd4Sy9nerYo",
        "colab": {
          "base_uri": "https://localhost:8080/",
          "height": 206
        },
        "outputId": "978b069b-f553-4115-947f-7dfc653bd207"
      },
      "execution_count": 475,
      "outputs": [
        {
          "output_type": "execute_result",
          "data": {
            "text/plain": [
              "                                       name  item_condition_id  \\\n",
              "0  Hold Alyssa Frye Harness boots 12R, Sz 7                  3   \n",
              "1                      Steve Madden booties                  3   \n",
              "2                          BCBG Tan Booties                  1   \n",
              "3          NWT Sorel Caribou boots size 8.5                  1   \n",
              "4      NIB Hunter Tiffany Mint Boots Size 5                  1   \n",
              "\n",
              "       category_name    brand_name  shipping  \\\n",
              "0  Women/Shoes/Boots          Frye         1   \n",
              "1  Women/Shoes/Boots  Steve Madden         0   \n",
              "2  Women/Shoes/Boots       missing         0   \n",
              "3  Women/Shoes/Boots       missing         0   \n",
              "4  Women/Shoes/Boots        Hunter         0   \n",
              "\n",
              "                                    item_description subcat_0 subcat_1  \n",
              "0  Good used condition Women's Fyre harness boots...    Shoes    Boots  \n",
              "1  The brand is actually \"Steven\" by Steve Madden...    Shoes    Boots  \n",
              "2               Brand new! Does not include the box.    Shoes    Boots  \n",
              "3                               New in box. Size 8.5    Shoes    Boots  \n",
              "4  Brand new never worn only flaw is as you can s...    Shoes    Boots  "
            ],
            "text/html": [
              "\n",
              "  <div id=\"df-a10b1a38-63d5-4e59-8915-884ca55cfb39\">\n",
              "    <div class=\"colab-df-container\">\n",
              "      <div>\n",
              "<style scoped>\n",
              "    .dataframe tbody tr th:only-of-type {\n",
              "        vertical-align: middle;\n",
              "    }\n",
              "\n",
              "    .dataframe tbody tr th {\n",
              "        vertical-align: top;\n",
              "    }\n",
              "\n",
              "    .dataframe thead th {\n",
              "        text-align: right;\n",
              "    }\n",
              "</style>\n",
              "<table border=\"1\" class=\"dataframe\">\n",
              "  <thead>\n",
              "    <tr style=\"text-align: right;\">\n",
              "      <th></th>\n",
              "      <th>name</th>\n",
              "      <th>item_condition_id</th>\n",
              "      <th>category_name</th>\n",
              "      <th>brand_name</th>\n",
              "      <th>shipping</th>\n",
              "      <th>item_description</th>\n",
              "      <th>subcat_0</th>\n",
              "      <th>subcat_1</th>\n",
              "    </tr>\n",
              "  </thead>\n",
              "  <tbody>\n",
              "    <tr>\n",
              "      <th>0</th>\n",
              "      <td>Hold Alyssa Frye Harness boots 12R, Sz 7</td>\n",
              "      <td>3</td>\n",
              "      <td>Women/Shoes/Boots</td>\n",
              "      <td>Frye</td>\n",
              "      <td>1</td>\n",
              "      <td>Good used condition Women's Fyre harness boots...</td>\n",
              "      <td>Shoes</td>\n",
              "      <td>Boots</td>\n",
              "    </tr>\n",
              "    <tr>\n",
              "      <th>1</th>\n",
              "      <td>Steve Madden booties</td>\n",
              "      <td>3</td>\n",
              "      <td>Women/Shoes/Boots</td>\n",
              "      <td>Steve Madden</td>\n",
              "      <td>0</td>\n",
              "      <td>The brand is actually \"Steven\" by Steve Madden...</td>\n",
              "      <td>Shoes</td>\n",
              "      <td>Boots</td>\n",
              "    </tr>\n",
              "    <tr>\n",
              "      <th>2</th>\n",
              "      <td>BCBG Tan Booties</td>\n",
              "      <td>1</td>\n",
              "      <td>Women/Shoes/Boots</td>\n",
              "      <td>missing</td>\n",
              "      <td>0</td>\n",
              "      <td>Brand new! Does not include the box.</td>\n",
              "      <td>Shoes</td>\n",
              "      <td>Boots</td>\n",
              "    </tr>\n",
              "    <tr>\n",
              "      <th>3</th>\n",
              "      <td>NWT Sorel Caribou boots size 8.5</td>\n",
              "      <td>1</td>\n",
              "      <td>Women/Shoes/Boots</td>\n",
              "      <td>missing</td>\n",
              "      <td>0</td>\n",
              "      <td>New in box. Size 8.5</td>\n",
              "      <td>Shoes</td>\n",
              "      <td>Boots</td>\n",
              "    </tr>\n",
              "    <tr>\n",
              "      <th>4</th>\n",
              "      <td>NIB Hunter Tiffany Mint Boots Size 5</td>\n",
              "      <td>1</td>\n",
              "      <td>Women/Shoes/Boots</td>\n",
              "      <td>Hunter</td>\n",
              "      <td>0</td>\n",
              "      <td>Brand new never worn only flaw is as you can s...</td>\n",
              "      <td>Shoes</td>\n",
              "      <td>Boots</td>\n",
              "    </tr>\n",
              "  </tbody>\n",
              "</table>\n",
              "</div>\n",
              "      <button class=\"colab-df-convert\" onclick=\"convertToInteractive('df-a10b1a38-63d5-4e59-8915-884ca55cfb39')\"\n",
              "              title=\"Convert this dataframe to an interactive table.\"\n",
              "              style=\"display:none;\">\n",
              "        \n",
              "  <svg xmlns=\"http://www.w3.org/2000/svg\" height=\"24px\"viewBox=\"0 0 24 24\"\n",
              "       width=\"24px\">\n",
              "    <path d=\"M0 0h24v24H0V0z\" fill=\"none\"/>\n",
              "    <path d=\"M18.56 5.44l.94 2.06.94-2.06 2.06-.94-2.06-.94-.94-2.06-.94 2.06-2.06.94zm-11 1L8.5 8.5l.94-2.06 2.06-.94-2.06-.94L8.5 2.5l-.94 2.06-2.06.94zm10 10l.94 2.06.94-2.06 2.06-.94-2.06-.94-.94-2.06-.94 2.06-2.06.94z\"/><path d=\"M17.41 7.96l-1.37-1.37c-.4-.4-.92-.59-1.43-.59-.52 0-1.04.2-1.43.59L10.3 9.45l-7.72 7.72c-.78.78-.78 2.05 0 2.83L4 21.41c.39.39.9.59 1.41.59.51 0 1.02-.2 1.41-.59l7.78-7.78 2.81-2.81c.8-.78.8-2.07 0-2.86zM5.41 20L4 18.59l7.72-7.72 1.47 1.35L5.41 20z\"/>\n",
              "  </svg>\n",
              "      </button>\n",
              "      \n",
              "  <style>\n",
              "    .colab-df-container {\n",
              "      display:flex;\n",
              "      flex-wrap:wrap;\n",
              "      gap: 12px;\n",
              "    }\n",
              "\n",
              "    .colab-df-convert {\n",
              "      background-color: #E8F0FE;\n",
              "      border: none;\n",
              "      border-radius: 50%;\n",
              "      cursor: pointer;\n",
              "      display: none;\n",
              "      fill: #1967D2;\n",
              "      height: 32px;\n",
              "      padding: 0 0 0 0;\n",
              "      width: 32px;\n",
              "    }\n",
              "\n",
              "    .colab-df-convert:hover {\n",
              "      background-color: #E2EBFA;\n",
              "      box-shadow: 0px 1px 2px rgba(60, 64, 67, 0.3), 0px 1px 3px 1px rgba(60, 64, 67, 0.15);\n",
              "      fill: #174EA6;\n",
              "    }\n",
              "\n",
              "    [theme=dark] .colab-df-convert {\n",
              "      background-color: #3B4455;\n",
              "      fill: #D2E3FC;\n",
              "    }\n",
              "\n",
              "    [theme=dark] .colab-df-convert:hover {\n",
              "      background-color: #434B5C;\n",
              "      box-shadow: 0px 1px 3px 1px rgba(0, 0, 0, 0.15);\n",
              "      filter: drop-shadow(0px 1px 2px rgba(0, 0, 0, 0.3));\n",
              "      fill: #FFFFFF;\n",
              "    }\n",
              "  </style>\n",
              "\n",
              "      <script>\n",
              "        const buttonEl =\n",
              "          document.querySelector('#df-a10b1a38-63d5-4e59-8915-884ca55cfb39 button.colab-df-convert');\n",
              "        buttonEl.style.display =\n",
              "          google.colab.kernel.accessAllowed ? 'block' : 'none';\n",
              "\n",
              "        async function convertToInteractive(key) {\n",
              "          const element = document.querySelector('#df-a10b1a38-63d5-4e59-8915-884ca55cfb39');\n",
              "          const dataTable =\n",
              "            await google.colab.kernel.invokeFunction('convertToInteractive',\n",
              "                                                     [key], {});\n",
              "          if (!dataTable) return;\n",
              "\n",
              "          const docLinkHtml = 'Like what you see? Visit the ' +\n",
              "            '<a target=\"_blank\" href=https://colab.research.google.com/notebooks/data_table.ipynb>data table notebook</a>'\n",
              "            + ' to learn more about interactive tables.';\n",
              "          element.innerHTML = '';\n",
              "          dataTable['output_type'] = 'display_data';\n",
              "          await google.colab.output.renderOutput(dataTable, element);\n",
              "          const docLink = document.createElement('div');\n",
              "          docLink.innerHTML = docLinkHtml;\n",
              "          element.appendChild(docLink);\n",
              "        }\n",
              "      </script>\n",
              "    </div>\n",
              "  </div>\n",
              "  "
            ]
          },
          "metadata": {},
          "execution_count": 475
        }
      ]
    },
    {
      "cell_type": "code",
      "source": [
        "train_data.shape"
      ],
      "metadata": {
        "colab": {
          "base_uri": "https://localhost:8080/"
        },
        "id": "Y-KlFNHWTcTy",
        "outputId": "5c549510-2a36-4783-dfb2-78bfb302f41b"
      },
      "execution_count": 476,
      "outputs": [
        {
          "output_type": "execute_result",
          "data": {
            "text/plain": [
              "(68400, 8)"
            ]
          },
          "metadata": {},
          "execution_count": 476
        }
      ]
    },
    {
      "cell_type": "code",
      "source": [
        "test_ids = test_data['id'].values.astype(np.int32)\n",
        "test_data.drop(['id'], axis=1, inplace=True)"
      ],
      "metadata": {
        "id": "OMrOcGK0l3lF"
      },
      "execution_count": 477,
      "outputs": []
    },
    {
      "cell_type": "code",
      "source": [
        "test_data.shape"
      ],
      "metadata": {
        "colab": {
          "base_uri": "https://localhost:8080/"
        },
        "id": "7dQ1RaVfRe_3",
        "outputId": "0d571d71-6aa4-4cdb-aff4-502488284037"
      },
      "execution_count": 478,
      "outputs": [
        {
          "output_type": "execute_result",
          "data": {
            "text/plain": [
              "(31789, 10)"
            ]
          },
          "metadata": {},
          "execution_count": 478
        }
      ]
    },
    {
      "cell_type": "markdown",
      "source": [
        "# **4. Splitting the dataset into train and test**"
      ],
      "metadata": {
        "id": "_FG8M4_E7tot"
      }
    },
    {
      "cell_type": "markdown",
      "source": [
        "- Before applying any ML model, we will split our data set into train and test. We shall fit on the entire train data and use test part for prediction purpose. Also, we shall evaluate which model performs the best on test data based on our evaluation metric RMSLE."
      ],
      "metadata": {
        "id": "5d2-UNBC8iuM"
      }
    },
    {
      "cell_type": "code",
      "source": [
        "X=train_data\n",
        "y=y_train"
      ],
      "metadata": {
        "id": "eGwWHjeunhzF"
      },
      "execution_count": 479,
      "outputs": []
    },
    {
      "cell_type": "code",
      "source": [
        "y"
      ],
      "metadata": {
        "colab": {
          "base_uri": "https://localhost:8080/"
        },
        "id": "pRIwDHB2O_ss",
        "outputId": "fe2d40dd-3b4f-4e60-e788-a68e2c6f002d"
      },
      "execution_count": 481,
      "outputs": [
        {
          "output_type": "execute_result",
          "data": {
            "text/plain": [
              "0        4.382027\n",
              "1        3.465736\n",
              "2        3.891820\n",
              "3        4.454347\n",
              "4        5.303305\n",
              "           ...   \n",
              "68395    4.262680\n",
              "68396    4.262680\n",
              "68397    4.262680\n",
              "68398    4.262680\n",
              "68399    4.262680\n",
              "Name: price, Length: 68400, dtype: float64"
            ]
          },
          "metadata": {},
          "execution_count": 481
        }
      ]
    },
    {
      "cell_type": "code",
      "source": [
        "X.info()"
      ],
      "metadata": {
        "colab": {
          "base_uri": "https://localhost:8080/"
        },
        "id": "wGJ_ZwpUPei8",
        "outputId": "80fe389d-28fc-4da1-f853-a97b015e705b"
      },
      "execution_count": 482,
      "outputs": [
        {
          "output_type": "stream",
          "name": "stdout",
          "text": [
            "<class 'pandas.core.frame.DataFrame'>\n",
            "RangeIndex: 68400 entries, 0 to 68399\n",
            "Data columns (total 8 columns):\n",
            " #   Column             Non-Null Count  Dtype \n",
            "---  ------             --------------  ----- \n",
            " 0   name               68400 non-null  object\n",
            " 1   item_condition_id  68400 non-null  int64 \n",
            " 2   category_name      68400 non-null  object\n",
            " 3   brand_name         68400 non-null  object\n",
            " 4   shipping           68400 non-null  int64 \n",
            " 5   item_description   68400 non-null  object\n",
            " 6   subcat_0           68400 non-null  object\n",
            " 7   subcat_1           68400 non-null  object\n",
            "dtypes: int64(2), object(6)\n",
            "memory usage: 4.2+ MB\n"
          ]
        }
      ]
    },
    {
      "cell_type": "code",
      "source": [
        "from sklearn.model_selection import train_test_split\n",
        "df_train, df_test, y_train, y_test = train_test_split(X, y, test_size=0.2, random_state=42)"
      ],
      "metadata": {
        "id": "4t8J6Q-vnno0"
      },
      "execution_count": 483,
      "outputs": []
    },
    {
      "cell_type": "code",
      "source": [
        "df_train.info()"
      ],
      "metadata": {
        "colab": {
          "base_uri": "https://localhost:8080/"
        },
        "id": "9juigBf2QgnQ",
        "outputId": "d436e2ac-728a-4510-c5b7-44b063a7da74"
      },
      "execution_count": 484,
      "outputs": [
        {
          "output_type": "stream",
          "name": "stdout",
          "text": [
            "<class 'pandas.core.frame.DataFrame'>\n",
            "Int64Index: 54720 entries, 10199 to 15795\n",
            "Data columns (total 8 columns):\n",
            " #   Column             Non-Null Count  Dtype \n",
            "---  ------             --------------  ----- \n",
            " 0   name               54720 non-null  object\n",
            " 1   item_condition_id  54720 non-null  int64 \n",
            " 2   category_name      54720 non-null  object\n",
            " 3   brand_name         54720 non-null  object\n",
            " 4   shipping           54720 non-null  int64 \n",
            " 5   item_description   54720 non-null  object\n",
            " 6   subcat_0           54720 non-null  object\n",
            " 7   subcat_1           54720 non-null  object\n",
            "dtypes: int64(2), object(6)\n",
            "memory usage: 3.8+ MB\n"
          ]
        }
      ]
    },
    {
      "cell_type": "code",
      "source": [
        "y_test"
      ],
      "metadata": {
        "colab": {
          "base_uri": "https://localhost:8080/"
        },
        "id": "wBscmhO-UzJn",
        "outputId": "01652d8e-2367-4ec8-ee28-3d158793bc9d"
      },
      "execution_count": 486,
      "outputs": [
        {
          "output_type": "execute_result",
          "data": {
            "text/plain": [
              "47169    3.044522\n",
              "28027    2.397895\n",
              "7119     1.386294\n",
              "9977     1.791759\n",
              "27406    2.397895\n",
              "           ...   \n",
              "24492    2.397895\n",
              "50011    3.044522\n",
              "27252    2.397895\n",
              "24457    2.397895\n",
              "57351    3.433987\n",
              "Name: price, Length: 13680, dtype: float64"
            ]
          },
          "metadata": {},
          "execution_count": 486
        }
      ]
    },
    {
      "cell_type": "markdown",
      "source": [
        "# **5. Cleaning the data: Pre-processing**"
      ],
      "metadata": {
        "id": "SHkj7A5Pyzsf"
      }
    },
    {
      "cell_type": "code",
      "source": [
        "# https://stackoverflow.com/a/47091490/4084039\n",
        "import re\n",
        "\n",
        "def decontracted(phrase):\n",
        "    # specific\n",
        "    phrase = re.sub(r\"won't\", \"will not\", phrase)\n",
        "    phrase = re.sub(r\"can\\'t\", \"can not\", phrase)\n",
        "\n",
        "    # general\n",
        "    phrase = re.sub(r\"n\\'t\", \" not\", phrase)\n",
        "    phrase = re.sub(r\"\\'re\", \" are\", phrase)\n",
        "    phrase = re.sub(r\"\\'s\", \" is\", phrase)\n",
        "    phrase = re.sub(r\"\\'d\", \" would\", phrase)\n",
        "    phrase = re.sub(r\"\\'ll\", \" will\", phrase)\n",
        "    phrase = re.sub(r\"\\'t\", \" not\", phrase)\n",
        "    phrase = re.sub(r\"\\'ve\", \" have\", phrase)\n",
        "    phrase = re.sub(r\"\\'m\", \" am\", phrase)\n",
        "    return phrase"
      ],
      "metadata": {
        "id": "3v_LC2ZKnZLW"
      },
      "execution_count": 489,
      "outputs": []
    },
    {
      "cell_type": "code",
      "source": [
        "# https://gist.github.com/sebleier/554280\n",
        "# we are removing the words from the stop words list: 'no', 'nor', 'not'\n",
        "stopwords= ['i', 'me', 'my', 'myself', 'we', 'our', 'ours', 'ourselves', 'you', \"you're\", \"you've\",\\\n",
        "            \"you'll\", \"you'd\", 'your', 'yours', 'yourself', 'yourselves', 'he', 'him', 'his', 'himself', \\\n",
        "            'she', \"she's\", 'her', 'hers', 'herself', 'it', \"it's\", 'its', 'itself', 'they', 'them', 'their',\\\n",
        "            'theirs', 'themselves', 'what', 'which', 'who', 'whom', 'this', 'that', \"that'll\", 'these', 'those', \\\n",
        "            'am', 'is', 'are', 'was', 'were', 'be', 'been', 'being', 'have', 'has', 'had', 'having', 'do', 'does', \\\n",
        "            'did', 'doing', 'a', 'an', 'the', 'and', 'but', 'if', 'or', 'because', 'as', 'until', 'while', 'of', \\\n",
        "            'at', 'by', 'for', 'with', 'about', 'against', 'between', 'into', 'through', 'during', 'before', 'after',\\\n",
        "            'above', 'below', 'to', 'from', 'up', 'down', 'in', 'out', 'on', 'off', 'over', 'under', 'again', 'further',\\\n",
        "            'then', 'once', 'here', 'there', 'when', 'where', 'why', 'how', 'all', 'any', 'both', 'each', 'few', 'more',\\\n",
        "            'most', 'other', 'some', 'such', 'only', 'own', 'same', 'so', 'than', 'too', 'very', \\\n",
        "            's', 't', 'can', 'will', 'just', 'don', \"don't\", 'should', \"should've\", 'now', 'd', 'll', 'm', 'o', 're', \\\n",
        "            've', 'y', 'ain', 'aren', \"aren't\", 'couldn', \"couldn't\", 'didn', \"didn't\", 'doesn', \"doesn't\", 'hadn',\\\n",
        "            \"hadn't\", 'hasn', \"hasn't\", 'haven', \"haven't\", 'isn', \"isn't\", 'ma', 'mightn', \"mightn't\", 'mustn',\\\n",
        "            \"mustn't\", 'needn', \"needn't\", 'shan', \"shan't\", 'shouldn', \"shouldn't\", 'wasn', \"wasn't\", 'weren', \"weren't\", \\\n",
        "            'won', \"won't\", 'wouldn', \"wouldn't\"]"
      ],
      "metadata": {
        "id": "W40ozDXXv0kk"
      },
      "execution_count": 490,
      "outputs": []
    },
    {
      "cell_type": "markdown",
      "source": [
        "- I have done some basic text pre-processing like removal of non-alphanumeric characters, regular expressions, stopwords, etc. from item_description."
      ],
      "metadata": {
        "id": "eECFCrhAA5fj"
      }
    },
    {
      "cell_type": "code",
      "source": [
        "#for X_train\n",
        "# Combining all the above stundents \n",
        "preprocessed_train_des = []\n",
        "# tqdm is for printing the status bar\n",
        "for sentance in tqdm(df_train['item_description'].values):\n",
        "    sent = decontracted(sentance)\n",
        "    sent = sent.replace('\\\\r', ' ')\n",
        "    sent = sent.replace('\\\\\"', ' ')\n",
        "    sent = sent.replace('\\\\n', ' ')\n",
        "    sent = re.sub('[^A-Za-z0-9]+', ' ', sent)\n",
        "    # https://gist.github.com/sebleier/554280\n",
        "    sent = ' '.join(e for e in sent.split() if e.lower() not in stopwords)\n",
        "    preprocessed_train_des.append(sent.lower().strip())\n",
        "\n",
        "# after preprocesing\n",
        "preprocessed_train_des[20010]"
      ],
      "metadata": {
        "id": "QikCXa_Kw6RG",
        "colab": {
          "base_uri": "https://localhost:8080/",
          "height": 53
        },
        "outputId": "1bc6dce8-296a-4a9b-a52e-a9cacccc58d9"
      },
      "execution_count": 491,
      "outputs": [
        {
          "output_type": "stream",
          "name": "stderr",
          "text": [
            "100%|██████████| 54720/54720 [00:03<00:00, 15553.94it/s]\n"
          ]
        },
        {
          "output_type": "execute_result",
          "data": {
            "text/plain": [
              "'gold drusy chunky sparkly fabulous danay earrings kendra scott nwt'"
            ],
            "application/vnd.google.colaboratory.intrinsic+json": {
              "type": "string"
            }
          },
          "metadata": {},
          "execution_count": 491
        }
      ]
    },
    {
      "cell_type": "code",
      "source": [
        "#for X_train\n",
        "# Combining all the above stundents \n",
        "preprocessed_test_des = []\n",
        "# tqdm is for printing the status bar\n",
        "for sentance in tqdm(df_test['item_description'].values):\n",
        "    sent = decontracted(sentance)\n",
        "    sent = sent.replace('\\\\r', ' ')\n",
        "    sent = sent.replace('\\\\\"', ' ')\n",
        "    sent = sent.replace('\\\\n', ' ')\n",
        "    sent = re.sub('[^A-Za-z0-9]+', ' ', sent)\n",
        "    # https://gist.github.com/sebleier/554280\n",
        "    sent = ' '.join(e for e in sent.split() if e.lower() not in stopwords)\n",
        "    preprocessed_test_des.append(sent.lower().strip())\n",
        "\n",
        "# after preprocesing\n",
        "preprocessed_test_des[1224]"
      ],
      "metadata": {
        "id": "cyA-IuxGxKVK",
        "colab": {
          "base_uri": "https://localhost:8080/",
          "height": 53
        },
        "outputId": "1c5ce3a1-9361-4961-dbbb-abe06ab44963"
      },
      "execution_count": 492,
      "outputs": [
        {
          "output_type": "stream",
          "name": "stderr",
          "text": [
            "100%|██████████| 13680/13680 [00:00<00:00, 15929.89it/s]\n"
          ]
        },
        {
          "output_type": "execute_result",
          "data": {
            "text/plain": [
              "'brand new armour hoodie shirt mesh dark material sides shaded purple white dark purple mesh side active material top hood'"
            ],
            "application/vnd.google.colaboratory.intrinsic+json": {
              "type": "string"
            }
          },
          "metadata": {},
          "execution_count": 492
        }
      ]
    },
    {
      "cell_type": "code",
      "source": [
        "#for X_train\n",
        "# Combining all the above stundents \n",
        "\n",
        "preprocessed_test2 = []\n",
        "# tqdm is for printing the status bar\n",
        "for sentance in tqdm(test_data['item_description'].values):\n",
        "    sent = decontracted(sentance)\n",
        "    sent = sent.replace('\\\\r', ' ')\n",
        "    sent = sent.replace('\\\\\"', ' ')\n",
        "    sent = sent.replace('\\\\n', ' ')\n",
        "    sent = re.sub('[^A-Za-z0-9]+', ' ', sent)\n",
        "    # https://gist.github.com/sebleier/554280\n",
        "    sent = ' '.join(e for e in sent.split() if e.lower() not in stopwords)\n",
        "    preprocessed_test2.append(sent.lower().strip())\n",
        "\n",
        "# after preprocesing\n",
        "preprocessed_test2[20500]"
      ],
      "metadata": {
        "id": "mcSQjUTtrnMD",
        "colab": {
          "base_uri": "https://localhost:8080/",
          "height": 53
        },
        "outputId": "11e3da45-6609-475a-ff55-48cce50aaaa1"
      },
      "execution_count": 493,
      "outputs": [
        {
          "output_type": "stream",
          "name": "stderr",
          "text": [
            "100%|██████████| 31789/31789 [00:02<00:00, 15604.65it/s]\n"
          ]
        },
        {
          "output_type": "execute_result",
          "data": {
            "text/plain": [
              "'brown pewter color beautiful boots wore like new'"
            ],
            "application/vnd.google.colaboratory.intrinsic+json": {
              "type": "string"
            }
          },
          "metadata": {},
          "execution_count": 493
        }
      ]
    },
    {
      "cell_type": "markdown",
      "source": [
        "### - **Handling Categorical Features: One-Hot Encoding**\n",
        "> Before applying any machine learning model, our data must fed to such models in proper format. We often encounter numerical,categorical values for data in column. \n",
        "> In our problem, most of the data in the columns is of categorical nature. Hence, they have to be converted in proper format to extract relevant information. though there are many ways to handle categorical data, one of the commonest way is to do One-Hot Encoding."
      ],
      "metadata": {
        "id": "82rXLcOr9Uj2"
      }
    },
    {
      "cell_type": "markdown",
      "source": [
        "- The One-Hot Encoding is specifically done with respect to train data to avoid data leakage issue. We do not include test data into it because test data is unseen to us. So, if any category appears new while testing, we will ignore that value while converting to One-Hot encoded form.\n",
        "\n",
        "- So, we have ‘Name’, ‘Brand Name’, ‘Sub category 0’, ‘Sub category 1’ as columns with categorical values. We will convert these categorical values into one-hot encoded form."
      ],
      "metadata": {
        "id": "MV6FZTcI9svD"
      }
    },
    {
      "cell_type": "code",
      "source": [
        "# name\n",
        "vectorizer = CountVectorizer(min_df=10)\n",
        "vectorizer.fit(df_train['name'].values) # fit has to happen only on train data\n",
        "\n",
        "# we use the fitted CountVectorizer to convert the text to vector\n",
        "train_name = vectorizer.transform(df_train['name'].values)\n",
        "test_name = vectorizer.transform(df_test['name'].values)\n",
        "\n",
        "\n",
        "print(\"After vectorizations\")\n",
        "print(train_name.shape)\n",
        "print(test_name.shape)\n",
        "\n",
        "print(vectorizer.get_feature_names_out())"
      ],
      "metadata": {
        "id": "38syt8Yjx3Px",
        "colab": {
          "base_uri": "https://localhost:8080/"
        },
        "outputId": "23c7049b-ebab-4fa2-e8da-54b98b664ade"
      },
      "execution_count": 494,
      "outputs": [
        {
          "output_type": "stream",
          "name": "stdout",
          "text": [
            "After vectorizations\n",
            "(54720, 1620)\n",
            "(13680, 1620)\n",
            "['00' '10' '100' ... 'zoom' 'zumba' 'zx']\n"
          ]
        }
      ]
    },
    {
      "cell_type": "code",
      "source": [
        "vectorizer = CountVectorizer(min_df=10)\n",
        "vectorizer.fit(df_train['name'].values) # fit has to happen only on train data\n",
        "\n",
        "# we use the fitted CountVectorizer to convert the text to vector\n",
        "submission_name2 = vectorizer.transform(test_data['name'].values)\n",
        "\n",
        "\n",
        "\n",
        "print(\"After vectorizations\")\n",
        "print(submission_name2.shape)\n",
        "\n",
        "\n",
        "print(vectorizer.get_feature_names_out())"
      ],
      "metadata": {
        "id": "GouAw_sKulrq",
        "colab": {
          "base_uri": "https://localhost:8080/"
        },
        "outputId": "2b7ec7de-7cbd-410e-edc4-c0c3d9ac00f8"
      },
      "execution_count": 495,
      "outputs": [
        {
          "output_type": "stream",
          "name": "stdout",
          "text": [
            "After vectorizations\n",
            "(31789, 1620)\n",
            "['00' '10' '100' ... 'zoom' 'zumba' 'zx']\n"
          ]
        }
      ]
    },
    {
      "cell_type": "code",
      "source": [
        "# brand_name\n",
        "vectorizer = CountVectorizer()\n",
        "vectorizer.fit(df_train['brand_name'].values) # fit has to happen only on train data\n",
        "\n",
        "# we use the fitted CountVectorizer to convert the text to vector\n",
        "train_brandname = vectorizer.transform(df_train['brand_name'].values)\n",
        "test_brandname = vectorizer.transform(df_test['brand_name'].values)\n",
        "\n",
        "\n",
        "print(\"After vectorizations\")\n",
        "print(train_brandname.shape)\n",
        "print(test_brandname.shape)\n",
        "\n",
        "print(vectorizer.get_feature_names_out())"
      ],
      "metadata": {
        "id": "2AQDne73zErA",
        "colab": {
          "base_uri": "https://localhost:8080/"
        },
        "outputId": "3b5d1fc2-4440-4cfc-cadf-e5f3e6371203"
      },
      "execution_count": 496,
      "outputs": [
        {
          "output_type": "stream",
          "name": "stdout",
          "text": [
            "After vectorizations\n",
            "(54720, 1305)\n",
            "(13680, 1305)\n",
            "['1960' '21' '44' ... 'zoe' 'zoo' 'zumba']\n"
          ]
        }
      ]
    },
    {
      "cell_type": "code",
      "source": [
        "vectorizer = CountVectorizer()\n",
        "vectorizer.fit(df_train['brand_name'].values) # fit has to happen only on train data\n",
        "\n",
        "# we use the fitted CountVectorizer to convert the text to vector\n",
        "submission_brand_name2 = vectorizer.transform(test_data['brand_name'].values)\n",
        "\n",
        "\n",
        "\n",
        "print(\"After vectorizations\")\n",
        "print(submission_brand_name2.shape)\n",
        "\n",
        "\n",
        "print(vectorizer.get_feature_names_out())"
      ],
      "metadata": {
        "id": "U5fKdankvKIb",
        "colab": {
          "base_uri": "https://localhost:8080/"
        },
        "outputId": "bb58f972-92a0-4331-9da1-5915dddcb8c9"
      },
      "execution_count": 497,
      "outputs": [
        {
          "output_type": "stream",
          "name": "stdout",
          "text": [
            "After vectorizations\n",
            "(31789, 1305)\n",
            "['1960' '21' '44' ... 'zoe' 'zoo' 'zumba']\n"
          ]
        }
      ]
    },
    {
      "cell_type": "code",
      "source": [
        "# sub category_0\n",
        "vectorizer = CountVectorizer()\n",
        "vectorizer.fit(df_train['subcat_0'].values) # fit has to happen only on train data\n",
        "\n",
        "# we use the fitted CountVectorizer to convert the text to vector\n",
        "train_subcat_0 = vectorizer.transform(df_train['subcat_0'].values)\n",
        "# we use the fitted CountVectorizer to convert the text to vector\n",
        "test_subcat_0 = vectorizer.transform(df_test['subcat_0'].values)\n",
        "\n",
        "\n",
        "print(\"After vectorizations\")\n",
        "print(train_subcat_0.shape)\n",
        "print(test_subcat_0.shape)\n",
        "\n",
        "print(vectorizer.get_feature_names_out())"
      ],
      "metadata": {
        "id": "CJnHagAV0uDW",
        "colab": {
          "base_uri": "https://localhost:8080/"
        },
        "outputId": "059824a0-e7b9-4142-a76b-0129931b2165"
      },
      "execution_count": 498,
      "outputs": [
        {
          "output_type": "stream",
          "name": "stdout",
          "text": [
            "After vectorizations\n",
            "(54720, 14)\n",
            "(13680, 14)\n",
            "['accessories' 'apparel' 'athletic' 'blouses' 'dresses' 'handbags' 'jeans'\n",
            " 'jewelry' 'shoes' 'sweaters' 'swimwear' 'tops' 'underwear' 'women']\n"
          ]
        }
      ]
    },
    {
      "cell_type": "code",
      "source": [
        "vectorizer = CountVectorizer()\n",
        "vectorizer.fit(df_train['subcat_0'].values) # fit has to happen only on train data\n",
        "\n",
        "# we use the fitted CountVectorizer to convert the text to vector\n",
        "submission_subcat_02 = vectorizer.transform(test_data['subcat_0'].values)\n",
        "\n",
        "\n",
        "\n",
        "print(\"After vectorizations\")\n",
        "print(submission_subcat_02.shape)\n",
        "\n",
        "print(vectorizer.get_feature_names_out())"
      ],
      "metadata": {
        "id": "WdwWo9cDx1Cj",
        "colab": {
          "base_uri": "https://localhost:8080/"
        },
        "outputId": "a4e528ab-966d-4479-acdc-6f79dc40f4af"
      },
      "execution_count": 499,
      "outputs": [
        {
          "output_type": "stream",
          "name": "stdout",
          "text": [
            "After vectorizations\n",
            "(31789, 14)\n",
            "['accessories' 'apparel' 'athletic' 'blouses' 'dresses' 'handbags' 'jeans'\n",
            " 'jewelry' 'shoes' 'sweaters' 'swimwear' 'tops' 'underwear' 'women']\n"
          ]
        }
      ]
    },
    {
      "cell_type": "code",
      "source": [
        "# sub category_1\n",
        "vectorizer = CountVectorizer()\n",
        "vectorizer.fit(df_train['subcat_1'].values) # fit has to happen only on train data\n",
        "\n",
        "# we use the fitted CountVectorizer to convert the text to vector\n",
        "train_subcat_1 = vectorizer.transform(df_train['subcat_1'].values)\n",
        "test_subcat_1 = vectorizer.transform(df_test['subcat_1'].values)\n",
        "\n",
        "\n",
        "print(\"After vectorizations\")\n",
        "print(train_subcat_1.shape)\n",
        "print(test_subcat_1.shape)\n",
        "\n",
        "print(vectorizer.get_feature_names_out())"
      ],
      "metadata": {
        "id": "ixylpJQu1VUU",
        "colab": {
          "base_uri": "https://localhost:8080/"
        },
        "outputId": "bbda26e9-39e3-471e-9b47-329517ab9b9e"
      },
      "execution_count": 500,
      "outputs": [
        {
          "output_type": "stream",
          "name": "stdout",
          "text": [
            "After vectorizations\n",
            "(54720, 32)\n",
            "(13680, 32)\n",
            "['above' 'athletic' 'bags' 'blouse' 'boots' 'bracelets' 'bras' 'cami'\n",
            " 'cardigan' 'earrings' 'fashion' 'hooded' 'knee' 'leggings' 'length'\n",
            " 'mini' 'necklaces' 'pants' 'piece' 'sandals' 'shirts' 'shorts' 'shoulder'\n",
            " 'skinny' 'slim' 'sneakers' 'tank' 'tights' 'tops' 'tunic' 'two' 'wallets']\n"
          ]
        }
      ]
    },
    {
      "cell_type": "code",
      "source": [
        "vectorizer = CountVectorizer()\n",
        "vectorizer.fit(df_train['subcat_1'].values) # fit has to happen only on train data\n",
        "\n",
        "# we use the fitted CountVectorizer to convert the text to vector\n",
        "submission_subcat_12 = vectorizer.transform(test_data['subcat_1'].values)\n",
        "\n",
        "\n",
        "\n",
        "print(\"After vectorizations\")\n",
        "print(submission_subcat_12.shape)\n",
        "\n",
        "\n",
        "print(vectorizer.get_feature_names_out())"
      ],
      "metadata": {
        "id": "42B1V1NAytB8",
        "colab": {
          "base_uri": "https://localhost:8080/"
        },
        "outputId": "49147ebb-67ad-48d1-e964-c9c3fcf5d5c7"
      },
      "execution_count": 501,
      "outputs": [
        {
          "output_type": "stream",
          "name": "stdout",
          "text": [
            "After vectorizations\n",
            "(31789, 32)\n",
            "['above' 'athletic' 'bags' 'blouse' 'boots' 'bracelets' 'bras' 'cami'\n",
            " 'cardigan' 'earrings' 'fashion' 'hooded' 'knee' 'leggings' 'length'\n",
            " 'mini' 'necklaces' 'pants' 'piece' 'sandals' 'shirts' 'shorts' 'shoulder'\n",
            " 'skinny' 'slim' 'sneakers' 'tank' 'tights' 'tops' 'tunic' 'two' 'wallets']\n"
          ]
        }
      ]
    },
    {
      "cell_type": "markdown",
      "source": [
        "**Handling Text-Features:**\n",
        "- Just like categorical features, we also have to treat our text features in the data. The column that bears text feature values in our data is ‘Item Description’. There are different ways of converting text features to numerical format like BOW, TF-IDF, Word2Vec. In this problem, we have computed TF-IDF vectors for all the words in our item description values."
      ],
      "metadata": {
        "id": "LeoqWUm9CDUj"
      }
    },
    {
      "cell_type": "code",
      "source": [
        "#for preprocessed_essays\n",
        "from sklearn.feature_extraction.text import TfidfVectorizer\n",
        "vectorizer = TfidfVectorizer(ngram_range=(1,2), min_df=10,max_features=5000)\n",
        "vectorizer.fit(preprocessed_train_des)\n",
        "X_train_itemdes = vectorizer.transform(preprocessed_train_des)\n",
        "X_test_itemdes = vectorizer.transform(preprocessed_test_des)"
      ],
      "metadata": {
        "id": "LRXrUvga18Pz"
      },
      "execution_count": 502,
      "outputs": []
    },
    {
      "cell_type": "code",
      "source": [
        "print(\"Shape of train matrix after one hot encodig \",X_train_itemdes.shape)\n",
        "print(\"Shape of test matrix after one hot encodig \",X_test_itemdes.shape)"
      ],
      "metadata": {
        "id": "tVT_AYjq2F7y",
        "colab": {
          "base_uri": "https://localhost:8080/"
        },
        "outputId": "8ecba320-1e0c-497d-e702-a228ef4ee5da"
      },
      "execution_count": 503,
      "outputs": [
        {
          "output_type": "stream",
          "name": "stdout",
          "text": [
            "Shape of train matrix after one hot encodig  (54720, 5000)\n",
            "Shape of test matrix after one hot encodig  (13680, 5000)\n"
          ]
        }
      ]
    },
    {
      "cell_type": "code",
      "source": [
        "#for preprocessed_essays\n",
        "from sklearn.feature_extraction.text import TfidfVectorizer\n",
        "vectorizer = TfidfVectorizer(ngram_range=(1,2), min_df=10,max_features=5000)\n",
        "vectorizer.fit(preprocessed_train_des)\n",
        "X_submission_itemdes2 = vectorizer.transform(preprocessed_test2)\n",
        "print(\"Shape of train matrix after one hot encodig \",X_submission_itemdes2.shape)"
      ],
      "metadata": {
        "id": "_Ytyu7BO0L2V",
        "colab": {
          "base_uri": "https://localhost:8080/"
        },
        "outputId": "740cad76-f3ac-4b31-95cd-cd056b579c30"
      },
      "execution_count": 504,
      "outputs": [
        {
          "output_type": "stream",
          "name": "stdout",
          "text": [
            "Shape of train matrix after one hot encodig  (31789, 5000)\n"
          ]
        }
      ]
    },
    {
      "cell_type": "markdown",
      "source": [
        "### **Length of Item description:**\n",
        "\n",
        "- Numerical features can be tricky to handle due to different range of minimum and maximum values for different types of features. In this section, we will handle the numerical features before feeding into our machine learning models.\n",
        "\n",
        "- Since numerical features can be of different scale values, we have normalized our features and assigned an uniformity so as not to train models with scale differences between features. Scikit Learn has an inbuilt Normalizer library to normalize values in a given range."
      ],
      "metadata": {
        "id": "qYZ-4EolDnvA"
      }
    },
    {
      "cell_type": "code",
      "source": [
        "X_train_des_wordcount = []\n",
        "for i in tqdm(preprocessed_train_des):\n",
        "    cnt_words =1\n",
        "    for j in i:\n",
        "        if (j==' '):\n",
        "            cnt_words+=1\n",
        "    X_train_des_wordcount.append(cnt_words)"
      ],
      "metadata": {
        "id": "kSoBftTN2c5u",
        "colab": {
          "base_uri": "https://localhost:8080/"
        },
        "outputId": "1fe65c41-decb-4aaa-9b06-5498a62b8461"
      },
      "execution_count": 505,
      "outputs": [
        {
          "output_type": "stream",
          "name": "stderr",
          "text": [
            "100%|██████████| 54720/54720 [00:00<00:00, 178262.96it/s]\n"
          ]
        }
      ]
    },
    {
      "cell_type": "code",
      "source": [
        "df_train['Number of words in item description']= X_train_des_wordcount"
      ],
      "metadata": {
        "id": "DRe_Eyov2jXM"
      },
      "execution_count": 506,
      "outputs": []
    },
    {
      "cell_type": "code",
      "source": [
        "X_test_des_wordcount = []\n",
        "for i in tqdm(preprocessed_test_des):\n",
        "    cnt_words =1\n",
        "    for j in i:\n",
        "        if (j==' '):\n",
        "            cnt_words+=1\n",
        "    X_test_des_wordcount.append(cnt_words)"
      ],
      "metadata": {
        "id": "VILRiFJJ22eX",
        "colab": {
          "base_uri": "https://localhost:8080/"
        },
        "outputId": "13606b35-7d36-4932-88e1-06ad527f91e5"
      },
      "execution_count": 507,
      "outputs": [
        {
          "output_type": "stream",
          "name": "stderr",
          "text": [
            "100%|██████████| 13680/13680 [00:00<00:00, 170865.73it/s]\n"
          ]
        }
      ]
    },
    {
      "cell_type": "code",
      "source": [
        "df_test['Number of words in item description']= X_test_des_wordcount"
      ],
      "metadata": {
        "id": "9abWQHCD29vR"
      },
      "execution_count": 508,
      "outputs": []
    },
    {
      "cell_type": "code",
      "source": [
        "X_submission_des_wordcount = []\n",
        "for i in tqdm(preprocessed_test2):\n",
        "    cnt_words =1\n",
        "    for j in i:\n",
        "        if (j==' '):\n",
        "            cnt_words+=1\n",
        "    X_submission_des_wordcount.append(cnt_words)"
      ],
      "metadata": {
        "id": "XoATw40s02yg",
        "colab": {
          "base_uri": "https://localhost:8080/"
        },
        "outputId": "63019087-6302-4684-b554-09b82cebe0c6"
      },
      "execution_count": 509,
      "outputs": [
        {
          "output_type": "stream",
          "name": "stderr",
          "text": [
            "100%|██████████| 31789/31789 [00:00<00:00, 169401.32it/s]\n"
          ]
        }
      ]
    },
    {
      "cell_type": "code",
      "source": [
        "test_data['Number of words in item description']= X_submission_des_wordcount"
      ],
      "metadata": {
        "id": "YaupSZuP07Fp"
      },
      "execution_count": 510,
      "outputs": []
    },
    {
      "cell_type": "code",
      "source": [
        "from sklearn.preprocessing import Normalizer\n",
        "normalizer = Normalizer()\n",
        "# normalizer.fit(X_train['price'].values)\n",
        "# this will rise an error Expected 2D array, got 1D array instead: \n",
        "# array=[105.22 215.96  96.01 ... 368.98  80.53 709.67].\n",
        "# Reshape your data either using \n",
        "# array.reshape(-1, 1) if your data has a single feature \n",
        "# array.reshape(1, -1)  if it contains a single sample.\n",
        "normalizer.fit(df_train['Number of words in item description'].values.reshape(-1,1))\n",
        "\n",
        "#X_train_price_norm = normalizer.transform(X_train['price'].values.reshape(-1,1))\n",
        "X_train_words_des_norm = normalizer.transform(df_train['Number of words in item description'].values.reshape(-1,1))\n",
        "\n",
        "X_test_words_des_norm = normalizer.transform(df_test['Number of words in item description'].values.reshape(-1,1))\n",
        "\n",
        "print(\"After normalizations\")\n",
        "print(X_train_words_des_norm.shape, y_train.shape)\n",
        "\n",
        "print(X_test_words_des_norm.shape, y_test.shape)"
      ],
      "metadata": {
        "id": "ytuu-IFG4lvi",
        "colab": {
          "base_uri": "https://localhost:8080/"
        },
        "outputId": "88457312-a975-4e25-ed19-9aaee0c12157"
      },
      "execution_count": 511,
      "outputs": [
        {
          "output_type": "stream",
          "name": "stdout",
          "text": [
            "After normalizations\n",
            "(54720, 1) (54720,)\n",
            "(13680, 1) (13680,)\n"
          ]
        }
      ]
    },
    {
      "cell_type": "code",
      "source": [
        "from sklearn.preprocessing import Normalizer\n",
        "normalizer = Normalizer()\n",
        "\n",
        "normalizer.fit(df_train['Number of words in item description'].values.reshape(-1,1))\n",
        "\n",
        "submission_words_des_norm2 = normalizer.transform(test_data['Number of words in item description'].values.reshape(-1,1))\n",
        "\n",
        "\n",
        "print(\"After normalizations\")\n",
        "print(submission_words_des_norm2.shape)"
      ],
      "metadata": {
        "id": "qTHRmqJZ1Qo2",
        "colab": {
          "base_uri": "https://localhost:8080/"
        },
        "outputId": "51712bea-eedb-49ab-939b-6c82a5b03ae2"
      },
      "execution_count": 512,
      "outputs": [
        {
          "output_type": "stream",
          "name": "stdout",
          "text": [
            "After normalizations\n",
            "(31789, 1)\n"
          ]
        }
      ]
    },
    {
      "cell_type": "markdown",
      "source": [
        "### **Shipping and Item Condition id:**\n",
        "\n",
        "The columns ‘Shipping’ and ‘Condition id’ are also categorical variables and we have adopted an easier way to One-Hot encode it. Pandas contain get_dummies method which is of the fastest ways to do one-hot encoding on categorical variables. It’s the vector representation of categorical values and the output returned is also of dataframe type. The algorithm in the ‘get_dummies’ method will recognize the categorical features and will obtain the one-hot encoded values automatically."
      ],
      "metadata": {
        "id": "RkShWa__EsOL"
      }
    },
    {
      "cell_type": "code",
      "source": [
        "from scipy.sparse import csr_matrix\n",
        "\n",
        "X_dummies = csr_matrix(pd.get_dummies(df_train[['item_condition_id', 'shipping']],\n",
        "                                          sparse=True).values)\n",
        "X_test_dummies = csr_matrix(pd.get_dummies(df_test[['item_condition_id', 'shipping']],\n",
        "                                          sparse=True).values)\n",
        "submission_dummies2 = csr_matrix(pd.get_dummies(test_data[['item_condition_id', 'shipping']],\n",
        "                                          sparse=True).values)"
      ],
      "metadata": {
        "id": "q2H235Rl6U9A"
      },
      "execution_count": 513,
      "outputs": []
    },
    {
      "cell_type": "markdown",
      "source": [
        "### **Merging all features in a matrix :**\n",
        "\n",
        "- After having handled all types of features, we are just step away from our machine learning modelling. For using our converted features, we will merge all of them in a matrix and will convert the matrix to compressed Sparse Row format stack arrays in sequence horizontally (column wise).\n",
        "- Hstack creates a concatenated form of arrays in sequence horizontally."
      ],
      "metadata": {
        "id": "qtDvAkkXFGrM"
      }
    },
    {
      "cell_type": "code",
      "source": [
        "# merge two sparse matrices: https://stackoverflow.com/a/19710648/4084039\n",
        "from scipy.sparse import hstack"
      ],
      "metadata": {
        "id": "5GaNQLEo6noi"
      },
      "execution_count": 514,
      "outputs": []
    },
    {
      "cell_type": "code",
      "source": [
        "X_train = hstack((train_name, train_brandname, train_subcat_0, train_subcat_1, X_train_itemdes, X_dummies, X_train_words_des_norm)).tocsr()\n",
        "\n",
        "X_test = hstack((test_name, test_brandname, test_subcat_0, test_subcat_1, X_test_itemdes, X_test_dummies, X_test_words_des_norm)).tocsr()\n",
        "\n",
        "print(\"Final Data matrix\")\n",
        "print(X_train.shape, y_train.shape)\n",
        "\n",
        "print(X_test.shape, y_test.shape)\n"
      ],
      "metadata": {
        "id": "Z6lXeYfR4P5W",
        "colab": {
          "base_uri": "https://localhost:8080/"
        },
        "outputId": "afc31d68-0274-4661-bb4a-68789c4c2197"
      },
      "execution_count": 515,
      "outputs": [
        {
          "output_type": "stream",
          "name": "stdout",
          "text": [
            "Final Data matrix\n",
            "(54720, 7974) (54720,)\n",
            "(13680, 7974) (13680,)\n"
          ]
        }
      ]
    },
    {
      "cell_type": "code",
      "source": [
        "submission2 = hstack((submission_name2,submission_brand_name2,submission_subcat_02,submission_subcat_12,X_submission_itemdes2,submission_dummies2,submission_words_des_norm2)).tocsr()\n",
        "\n",
        "\n",
        "print(\"Final Data matrix\")\n",
        "print(submission2.shape)"
      ],
      "metadata": {
        "id": "lq_wOJWW7Am8",
        "colab": {
          "base_uri": "https://localhost:8080/"
        },
        "outputId": "2e8dac9b-f3e2-47b3-9748-ea84fa30acda"
      },
      "execution_count": 516,
      "outputs": [
        {
          "output_type": "stream",
          "name": "stdout",
          "text": [
            "Final Data matrix\n",
            "(31789, 7974)\n"
          ]
        }
      ]
    },
    {
      "cell_type": "markdown",
      "source": [
        "# **6. Machine Learning Modelling:**"
      ],
      "metadata": {
        "id": "wVO9QWbJF3VU"
      }
    },
    {
      "cell_type": "markdown",
      "source": [
        "- After having done with the statistical analysis and cleaning of data, we also did some feature engineering.\n",
        "- We also handled categorical, text and numerical features and merged into train and test data matrix. We are now ready to apply machine learning algorithms on our prepared data matrices."
      ],
      "metadata": {
        "id": "hA_9_FTQGR8u"
      }
    },
    {
      "cell_type": "markdown",
      "source": [
        "- I have experimented with three machine learning regression models:\n",
        "\n",
        "\n",
        "    1.   Ridge Regression\n",
        "    2.   SVM Regression\n",
        "    3.   Light Gradient Boosting Regression\n",
        "\n",
        "\n",
        "- I have hyperparameter tuned each of these models. From the best hyperparameters that was obtained by training on the train data set, it was used to predict the price values on test data set and compare the RMSLE of each of these ML models. I have tried with a wide range of hyperparameters because the optimal set of hyperparameters varies from problem to problem.\n",
        "- For model building, we will be using the Scikit-learn library of Python. It is extremely easy to build models with Scikit Learn because of its simplicity.\n",
        "\n"
      ],
      "metadata": {
        "id": "tknvX--SGlpo"
      }
    },
    {
      "cell_type": "code",
      "source": [
        "import warnings\n",
        "warnings.simplefilter(\"ignore\", UserWarning)\n"
      ],
      "metadata": {
        "id": "hu39Xk13CZfZ"
      },
      "execution_count": 517,
      "outputs": []
    },
    {
      "cell_type": "markdown",
      "source": [
        "**Ridge Regression**"
      ],
      "metadata": {
        "id": "dczYTuANH3FD"
      }
    },
    {
      "cell_type": "code",
      "source": [
        "from sklearn.linear_model import Ridge, LogisticRegression\n",
        "from sklearn.metrics import mean_squared_error\n",
        "from sklearn.metrics import mean_absolute_error"
      ],
      "metadata": {
        "id": "SKxGh-Sk__Xi"
      },
      "execution_count": 518,
      "outputs": []
    },
    {
      "cell_type": "code",
      "source": [
        "alpha = [1, 2, 3, 3.5, 4, 4.5, 5, 6, 7] \n",
        "cv_rmsle_array=[] \n",
        "for i in tqdm(alpha):\n",
        "    model = Ridge(solver=\"sag\", random_state=42, alpha=i)\n",
        "    model.fit(X_train, y_train)\n",
        "    y_pred = model.predict(X_test)\n",
        "    cv_rmsle_array.append(np.sqrt(mean_squared_error(y_test, y_pred)))\n",
        "\n",
        "for i in range(len(cv_rmsle_array)):\n",
        "    print ('RMSLE for alpha = ',alpha[i],'is',cv_rmsle_array[i])\n",
        "    \n",
        "best_alpha = np.argmin(cv_rmsle_array)\n",
        "\n",
        "fig, ax = plt.subplots()\n",
        "ax.plot(alpha, cv_rmsle_array)\n",
        "ax.scatter(alpha, cv_rmsle_array)\n",
        "for i, txt in enumerate(np.round(cv_rmsle_array,3)):\n",
        "    ax.annotate((alpha[i],np.round(txt,3)), (alpha[i],cv_rmsle_array[i]))\n",
        "\n",
        "plt.title(\"Cross Validation Error for each alpha\")\n",
        "plt.xlabel(\"Alpha\")\n",
        "plt.ylabel(\"Error\")\n",
        "plt.show()"
      ],
      "metadata": {
        "id": "w2UhChEY_084",
        "colab": {
          "base_uri": "https://localhost:8080/",
          "height": 469
        },
        "outputId": "c821800a-1db4-437d-cf09-9f2db449558a"
      },
      "execution_count": 519,
      "outputs": [
        {
          "output_type": "stream",
          "name": "stderr",
          "text": [
            "100%|██████████| 9/9 [00:16<00:00,  1.85s/it]\n"
          ]
        },
        {
          "output_type": "stream",
          "name": "stdout",
          "text": [
            "RMSLE for alpha =  1 is 0.5066129307586151\n",
            "RMSLE for alpha =  2 is 0.5027917228246782\n",
            "RMSLE for alpha =  3 is 0.5011254906357\n",
            "RMSLE for alpha =  3.5 is 0.5006601440650434\n",
            "RMSLE for alpha =  4 is 0.5003464846702772\n",
            "RMSLE for alpha =  4.5 is 0.5001413385288395\n",
            "RMSLE for alpha =  5 is 0.5000250710680421\n",
            "RMSLE for alpha =  6 is 0.4999583076163308\n",
            "RMSLE for alpha =  7 is 0.5000418544131613\n"
          ]
        },
        {
          "output_type": "display_data",
          "data": {
            "text/plain": [
              "<Figure size 432x288 with 1 Axes>"
            ],
            "image/png": "[encoded data removed]"
          },
          "metadata": {
            "needs_background": "light"
          }
        }
      ]
    },
    {
      "cell_type": "code",
      "source": [
        "print(\"Best alpha: \",  alpha[best_alpha])\n",
        "model = Ridge(solver=\"sag\", random_state=42, alpha=alpha[best_alpha])\n",
        "model.fit(X_train, y_train)\n",
        "y_pred = model.predict(X_test)\n",
        "\n",
        "print('Train RMSLE:', np.sqrt(mean_squared_error(y_test, y_pred)))\n",
        "predridge2 = model.predict(submission2)"
      ],
      "metadata": {
        "colab": {
          "base_uri": "https://localhost:8080/"
        },
        "id": "0vx0S556PUdY",
        "outputId": "e08599d8-a913-4532-8eeb-2c0c5de3bbbc"
      },
      "execution_count": 520,
      "outputs": [
        {
          "output_type": "stream",
          "name": "stdout",
          "text": [
            "Best alpha:  6\n",
            "Train RMSLE: 0.4999583076163308\n"
          ]
        }
      ]
    },
    {
      "cell_type": "code",
      "source": [
        ""
      ],
      "metadata": {
        "id": "vxv4lMbADukj"
      },
      "execution_count": 520,
      "outputs": []
    },
    {
      "cell_type": "markdown",
      "source": [
        "**SVM Regression**"
      ],
      "metadata": {
        "id": "jIulmqHUR21x"
      }
    },
    {
      "cell_type": "code",
      "source": [
        "from sklearn.svm import SVR\n",
        "\n",
        "c_param = [0.01, 0.03, 0.1, 0.3, 1, 3, 10]\n",
        "cv_rmsle_array=[]\n",
        "\n",
        "for i in c_param:\n",
        "    model = SVR(C=i, max_iter=200)\n",
        "    model.fit(X_train, y_train)\n",
        "    y_pred = model.predict(X_test)\n",
        "    cv_err = np.sqrt(mean_squared_error(y_test, y_pred))\n",
        "    cv_rmsle_array.append(cv_err)\n",
        "\n",
        "    print('RMSLE for C=',i, 'is', cv_err)\n",
        "\n",
        "best_C = np.argmin(cv_rmsle_array)\n",
        "\n",
        "fig, ax = plt.subplots()\n",
        "ax.plot(c_param, cv_rmsle_array)\n",
        "ax.scatter(c_param, cv_rmsle_array)\n",
        "for i, txt in enumerate(np.round(cv_rmsle_array,3)):\n",
        "    ax.annotate((c_param[i],np.round(txt,3)), (c_param[i],cv_rmsle_array[i]))\n",
        "plt.title(\"Cross Validation Error for each C\")\n",
        "plt.xlabel(\"C\")\n",
        "plt.ylabel(\"Error\")\n",
        "plt.show()"
      ],
      "metadata": {
        "colab": {
          "base_uri": "https://localhost:8080/",
          "height": 416
        },
        "id": "yunsFxdiR4cF",
        "outputId": "bb9ada10-abb0-409b-98e5-01a278ca0ded"
      },
      "execution_count": 521,
      "outputs": [
        {
          "output_type": "stream",
          "name": "stdout",
          "text": [
            "RMSLE for C= 0.01 is 0.8764940821230286\n",
            "RMSLE for C= 0.03 is 0.8441910209833697\n",
            "RMSLE for C= 0.1 is 0.7883049238325753\n",
            "RMSLE for C= 0.3 is 0.7401915276073172\n",
            "RMSLE for C= 1 is 0.6686070871365313\n",
            "RMSLE for C= 3 is 0.6206017094026628\n",
            "RMSLE for C= 10 is 0.6783546520174002\n"
          ]
        },
        {
          "output_type": "display_data",
          "data": {
            "text/plain": [
              "<Figure size 432x288 with 1 Axes>"
            ],
            "image/png": "[encoded data removed]"
          },
          "metadata": {
            "needs_background": "light"
          }
        }
      ]
    },
    {
      "cell_type": "code",
      "source": [
        "best_C = c_param[best_C]\n",
        "print('Best C: ', best_C)\n",
        "model = SVR(C=best_C, max_iter=200)\n",
        "model.fit(X_train, y_train)\n",
        "\n",
        "y_pred = model.predict(X_test)\n",
        "print('Train RMSLE:', np.sqrt(mean_squared_error(y_test, y_pred)))\n",
        "predsvm = model.predict(submission2)"
      ],
      "metadata": {
        "colab": {
          "base_uri": "https://localhost:8080/"
        },
        "id": "bBm4Z5VRTjB0",
        "outputId": "15155800-e65b-4dce-83b4-fde581ed152b"
      },
      "execution_count": 522,
      "outputs": [
        {
          "output_type": "stream",
          "name": "stdout",
          "text": [
            "Best C:  3\n",
            "Train RMSLE: 0.6206017094026628\n"
          ]
        }
      ]
    },
    {
      "cell_type": "markdown",
      "source": [
        "**Light GBM Regressor**"
      ],
      "metadata": {
        "id": "4L4TDr4jJGvY"
      }
    },
    {
      "cell_type": "code",
      "source": [
        "from lightgbm import LGBMRegressor\n",
        "from scipy.stats import uniform\n",
        "from scipy.stats import randint as sp_randint\n",
        "from sklearn.model_selection import RandomizedSearchCV\n",
        "\n",
        "lgb_model = LGBMRegressor(subsample=0.9)\n",
        "\n",
        "params = {'learning_rate': uniform(0, 1),\n",
        "          'n_estimators': sp_randint(200, 1500),\n",
        "          'num_leaves': sp_randint(20, 200),\n",
        "          'max_depth': sp_randint(2, 15),\n",
        "          'min_child_weight': uniform(0, 2),\n",
        "          'colsample_bytree': uniform(0, 1),\n",
        "         }\n",
        "lgb_random = RandomizedSearchCV(lgb_model, param_distributions=params, n_iter=10, cv=3, random_state=42, \n",
        "                                scoring='neg_root_mean_squared_error', verbose=10, return_train_score=True)\n",
        "lgb_random = lgb_random.fit(X_train, y_train)"
      ],
      "metadata": {
        "colab": {
          "base_uri": "https://localhost:8080/"
        },
        "id": "nc946nF-JPCl",
        "outputId": "a429b35a-15d5-4ac3-bf2c-ab935cb73cd0"
      },
      "execution_count": 527,
      "outputs": [
        {
          "output_type": "stream",
          "name": "stdout",
          "text": [
            "Fitting 3 folds for each of 10 candidates, totalling 30 fits\n",
            "[CV 1/3; 1/10] START colsample_bytree=0.3745401188473625, learning_rate=0.9507143064099162, max_depth=12, min_child_weight=1.5593820005455385, n_estimators=1244, num_leaves=122\n",
            "[CV 1/3; 1/10] END colsample_bytree=0.3745401188473625, learning_rate=0.9507143064099162, max_depth=12, min_child_weight=1.5593820005455385, n_estimators=1244, num_leaves=122;, score=(train=-0.228, test=-0.627) total time= 1.0min\n",
            "[CV 2/3; 1/10] START colsample_bytree=0.3745401188473625, learning_rate=0.9507143064099162, max_depth=12, min_child_weight=1.5593820005455385, n_estimators=1244, num_leaves=122\n",
            "[CV 2/3; 1/10] END colsample_bytree=0.3745401188473625, learning_rate=0.9507143064099162, max_depth=12, min_child_weight=1.5593820005455385, n_estimators=1244, num_leaves=122;, score=(train=-0.232, test=-0.625) total time=  53.1s\n",
            "[CV 3/3; 1/10] START colsample_bytree=0.3745401188473625, learning_rate=0.9507143064099162, max_depth=12, min_child_weight=1.5593820005455385, n_estimators=1244, num_leaves=122\n",
            "[CV 3/3; 1/10] END colsample_bytree=0.3745401188473625, learning_rate=0.9507143064099162, max_depth=12, min_child_weight=1.5593820005455385, n_estimators=1244, num_leaves=122;, score=(train=-0.231, test=-0.626) total time=  49.6s\n",
            "[CV 1/3; 2/10] START colsample_bytree=0.44583275285359114, learning_rate=0.09997491581800289, max_depth=12, min_child_weight=1.7323522915498704, n_estimators=1323, num_leaves=123\n",
            "[CV 1/3; 2/10] END colsample_bytree=0.44583275285359114, learning_rate=0.09997491581800289, max_depth=12, min_child_weight=1.7323522915498704, n_estimators=1323, num_leaves=123;, score=(train=-0.373, test=-0.505) total time= 1.3min\n",
            "[CV 2/3; 2/10] START colsample_bytree=0.44583275285359114, learning_rate=0.09997491581800289, max_depth=12, min_child_weight=1.7323522915498704, n_estimators=1323, num_leaves=123\n",
            "[CV 2/3; 2/10] END colsample_bytree=0.44583275285359114, learning_rate=0.09997491581800289, max_depth=12, min_child_weight=1.7323522915498704, n_estimators=1323, num_leaves=123;, score=(train=-0.375, test=-0.502) total time= 1.0min\n",
            "[CV 3/3; 2/10] START colsample_bytree=0.44583275285359114, learning_rate=0.09997491581800289, max_depth=12, min_child_weight=1.7323522915498704, n_estimators=1323, num_leaves=123\n",
            "[CV 3/3; 2/10] END colsample_bytree=0.44583275285359114, learning_rate=0.09997491581800289, max_depth=12, min_child_weight=1.7323522915498704, n_estimators=1323, num_leaves=123;, score=(train=-0.374, test=-0.506) total time=  59.6s\n",
            "[CV 1/3; 3/10] START colsample_bytree=0.7080725777960455, learning_rate=0.020584494295802447, max_depth=3, min_child_weight=1.4439975445336495, n_estimators=1005, num_leaves=149\n",
            "[CV 1/3; 3/10] END colsample_bytree=0.7080725777960455, learning_rate=0.020584494295802447, max_depth=3, min_child_weight=1.4439975445336495, n_estimators=1005, num_leaves=149;, score=(train=-0.545, test=-0.553) total time=  14.8s\n",
            "[CV 2/3; 3/10] START colsample_bytree=0.7080725777960455, learning_rate=0.020584494295802447, max_depth=3, min_child_weight=1.4439975445336495, n_estimators=1005, num_leaves=149\n",
            "[CV 2/3; 3/10] END colsample_bytree=0.7080725777960455, learning_rate=0.020584494295802447, max_depth=3, min_child_weight=1.4439975445336495, n_estimators=1005, num_leaves=149;, score=(train=-0.545, test=-0.551) total time=  15.5s\n",
            "[CV 3/3; 3/10] START colsample_bytree=0.7080725777960455, learning_rate=0.020584494295802447, max_depth=3, min_child_weight=1.4439975445336495, n_estimators=1005, num_leaves=149\n",
            "[CV 3/3; 3/10] END colsample_bytree=0.7080725777960455, learning_rate=0.020584494295802447, max_depth=3, min_child_weight=1.4439975445336495, n_estimators=1005, num_leaves=149;, score=(train=-0.545, test=-0.552) total time=  15.2s\n",
            "[CV 1/3; 4/10] START colsample_bytree=0.18182496720710062, learning_rate=0.18340450985343382, max_depth=13, min_child_weight=1.2233063209765618, n_estimators=452, num_leaves=108\n",
            "[CV 1/3; 4/10] END colsample_bytree=0.18182496720710062, learning_rate=0.18340450985343382, max_depth=13, min_child_weight=1.2233063209765618, n_estimators=452, num_leaves=108;, score=(train=-0.401, test=-0.507) total time=  16.2s\n",
            "[CV 2/3; 4/10] START colsample_bytree=0.18182496720710062, learning_rate=0.18340450985343382, max_depth=13, min_child_weight=1.2233063209765618, n_estimators=452, num_leaves=108\n",
            "[CV 2/3; 4/10] END colsample_bytree=0.18182496720710062, learning_rate=0.18340450985343382, max_depth=13, min_child_weight=1.2233063209765618, n_estimators=452, num_leaves=108;, score=(train=-0.402, test=-0.505) total time=  16.6s\n",
            "[CV 3/3; 4/10] START colsample_bytree=0.18182496720710062, learning_rate=0.18340450985343382, max_depth=13, min_child_weight=1.2233063209765618, n_estimators=452, num_leaves=108\n",
            "[CV 3/3; 4/10] END colsample_bytree=0.18182496720710062, learning_rate=0.18340450985343382, max_depth=13, min_child_weight=1.2233063209765618, n_estimators=452, num_leaves=108;, score=(train=-0.400, test=-0.508) total time=  16.5s\n",
            "[CV 1/3; 5/10] START colsample_bytree=0.2912291401980419, learning_rate=0.6118528947223795, max_depth=11, min_child_weight=0.09333132642723085, n_estimators=899, num_leaves=34\n",
            "[CV 1/3; 5/10] END colsample_bytree=0.2912291401980419, learning_rate=0.6118528947223795, max_depth=11, min_child_weight=0.09333132642723085, n_estimators=899, num_leaves=34;, score=(train=-0.308, test=-0.556) total time=  29.2s\n",
            "[CV 2/3; 5/10] START colsample_bytree=0.2912291401980419, learning_rate=0.6118528947223795, max_depth=11, min_child_weight=0.09333132642723085, n_estimators=899, num_leaves=34\n",
            "[CV 2/3; 5/10] END colsample_bytree=0.2912291401980419, learning_rate=0.6118528947223795, max_depth=11, min_child_weight=0.09333132642723085, n_estimators=899, num_leaves=34;, score=(train=-0.308, test=-0.554) total time=  30.1s\n",
            "[CV 3/3; 5/10] START colsample_bytree=0.2912291401980419, learning_rate=0.6118528947223795, max_depth=11, min_child_weight=0.09333132642723085, n_estimators=899, num_leaves=34\n",
            "[CV 3/3; 5/10] END colsample_bytree=0.2912291401980419, learning_rate=0.6118528947223795, max_depth=11, min_child_weight=0.09333132642723085, n_estimators=899, num_leaves=34;, score=(train=-0.312, test=-0.558) total time=  29.3s\n",
            "[CV 1/3; 6/10] START colsample_bytree=0.45606998421703593, learning_rate=0.7851759613930136, max_depth=4, min_child_weight=0.7649239825343255, n_estimators=1467, num_leaves=83\n",
            "[CV 1/3; 6/10] END colsample_bytree=0.45606998421703593, learning_rate=0.7851759613930136, max_depth=4, min_child_weight=0.7649239825343255, n_estimators=1467, num_leaves=83;, score=(train=-0.359, test=-0.553) total time=  23.0s\n",
            "[CV 2/3; 6/10] START colsample_bytree=0.45606998421703593, learning_rate=0.7851759613930136, max_depth=4, min_child_weight=0.7649239825343255, n_estimators=1467, num_leaves=83\n",
            "[CV 2/3; 6/10] END colsample_bytree=0.45606998421703593, learning_rate=0.7851759613930136, max_depth=4, min_child_weight=0.7649239825343255, n_estimators=1467, num_leaves=83;, score=(train=-0.356, test=-0.549) total time=  23.2s\n",
            "[CV 3/3; 6/10] START colsample_bytree=0.45606998421703593, learning_rate=0.7851759613930136, max_depth=4, min_child_weight=0.7649239825343255, n_estimators=1467, num_leaves=83\n",
            "[CV 3/3; 6/10] END colsample_bytree=0.45606998421703593, learning_rate=0.7851759613930136, max_depth=4, min_child_weight=0.7649239825343255, n_estimators=1467, num_leaves=83;, score=(train=-0.358, test=-0.556) total time=  46.9s\n",
            "[CV 1/3; 7/10] START colsample_bytree=0.4667628932479799, learning_rate=0.8599404067363206, max_depth=8, min_child_weight=0.34104824737458306, n_estimators=366, num_leaves=37\n",
            "[CV 1/3; 7/10] END colsample_bytree=0.4667628932479799, learning_rate=0.8599404067363206, max_depth=8, min_child_weight=0.34104824737458306, n_estimators=366, num_leaves=37;, score=(train=-0.382, test=-0.561) total time=  16.0s\n",
            "[CV 2/3; 7/10] START colsample_bytree=0.4667628932479799, learning_rate=0.8599404067363206, max_depth=8, min_child_weight=0.34104824737458306, n_estimators=366, num_leaves=37\n",
            "[CV 2/3; 7/10] END colsample_bytree=0.4667628932479799, learning_rate=0.8599404067363206, max_depth=8, min_child_weight=0.34104824737458306, n_estimators=366, num_leaves=37;, score=(train=-0.379, test=-0.556) total time=  13.1s\n",
            "[CV 3/3; 7/10] START colsample_bytree=0.4667628932479799, learning_rate=0.8599404067363206, max_depth=8, min_child_weight=0.34104824737458306, n_estimators=366, num_leaves=37\n",
            "[CV 3/3; 7/10] END colsample_bytree=0.4667628932479799, learning_rate=0.8599404067363206, max_depth=8, min_child_weight=0.34104824737458306, n_estimators=366, num_leaves=37;, score=(train=-0.375, test=-0.560) total time=  10.9s\n",
            "[CV 1/3; 8/10] START colsample_bytree=0.9488855372533332, learning_rate=0.9656320330745594, max_depth=3, min_child_weight=0.7708330050798322, n_estimators=764, num_leaves=149\n",
            "[CV 1/3; 8/10] END colsample_bytree=0.9488855372533332, learning_rate=0.9656320330745594, max_depth=3, min_child_weight=0.7708330050798322, n_estimators=764, num_leaves=149;, score=(train=-0.415, test=-0.546) total time=  12.0s\n",
            "[CV 2/3; 8/10] START colsample_bytree=0.9488855372533332, learning_rate=0.9656320330745594, max_depth=3, min_child_weight=0.7708330050798322, n_estimators=764, num_leaves=149\n",
            "[CV 2/3; 8/10] END colsample_bytree=0.9488855372533332, learning_rate=0.9656320330745594, max_depth=3, min_child_weight=0.7708330050798322, n_estimators=764, num_leaves=149;, score=(train=-0.413, test=-0.542) total time=  12.1s\n",
            "[CV 3/3; 8/10] START colsample_bytree=0.9488855372533332, learning_rate=0.9656320330745594, max_depth=3, min_child_weight=0.7708330050798322, n_estimators=764, num_leaves=149\n",
            "[CV 3/3; 8/10] END colsample_bytree=0.9488855372533332, learning_rate=0.9656320330745594, max_depth=3, min_child_weight=0.7708330050798322, n_estimators=764, num_leaves=149;, score=(train=-0.413, test=-0.551) total time=  11.9s\n",
            "[CV 1/3; 9/10] START colsample_bytree=0.6842330265121569, learning_rate=0.4401524937396013, max_depth=8, min_child_weight=1.2199933155652418, n_estimators=975, num_leaves=194\n",
            "[CV 1/3; 9/10] END colsample_bytree=0.6842330265121569, learning_rate=0.4401524937396013, max_depth=8, min_child_weight=1.2199933155652418, n_estimators=975, num_leaves=194;, score=(train=-0.339, test=-0.531) total time=  32.5s\n",
            "[CV 2/3; 9/10] START colsample_bytree=0.6842330265121569, learning_rate=0.4401524937396013, max_depth=8, min_child_weight=1.2199933155652418, n_estimators=975, num_leaves=194\n",
            "[CV 2/3; 9/10] END colsample_bytree=0.6842330265121569, learning_rate=0.4401524937396013, max_depth=8, min_child_weight=1.2199933155652418, n_estimators=975, num_leaves=194;, score=(train=-0.337, test=-0.526) total time=  33.7s\n",
            "[CV 3/3; 9/10] START colsample_bytree=0.6842330265121569, learning_rate=0.4401524937396013, max_depth=8, min_child_weight=1.2199933155652418, n_estimators=975, num_leaves=194\n",
            "[CV 3/3; 9/10] END colsample_bytree=0.6842330265121569, learning_rate=0.4401524937396013, max_depth=8, min_child_weight=1.2199933155652418, n_estimators=975, num_leaves=194;, score=(train=-0.339, test=-0.534) total time=  33.8s\n",
            "[CV 1/3; 10/10] START colsample_bytree=0.17336465350777208, learning_rate=0.3910606075732408, max_depth=3, min_child_weight=1.325044568707964, n_estimators=1225, num_leaves=153\n",
            "[CV 1/3; 10/10] END colsample_bytree=0.17336465350777208, learning_rate=0.3910606075732408, max_depth=3, min_child_weight=1.325044568707964, n_estimators=1225, num_leaves=153;, score=(train=-0.434, test=-0.512) total time=  12.3s\n",
            "[CV 2/3; 10/10] START colsample_bytree=0.17336465350777208, learning_rate=0.3910606075732408, max_depth=3, min_child_weight=1.325044568707964, n_estimators=1225, num_leaves=153\n",
            "[CV 2/3; 10/10] END colsample_bytree=0.17336465350777208, learning_rate=0.3910606075732408, max_depth=3, min_child_weight=1.325044568707964, n_estimators=1225, num_leaves=153;, score=(train=-0.435, test=-0.508) total time=  12.4s\n",
            "[CV 3/3; 10/10] START colsample_bytree=0.17336465350777208, learning_rate=0.3910606075732408, max_depth=3, min_child_weight=1.325044568707964, n_estimators=1225, num_leaves=153\n",
            "[CV 3/3; 10/10] END colsample_bytree=0.17336465350777208, learning_rate=0.3910606075732408, max_depth=3, min_child_weight=1.325044568707964, n_estimators=1225, num_leaves=153;, score=(train=-0.433, test=-0.512) total time=  12.2s\n"
          ]
        }
      ]
    },
    {
      "cell_type": "code",
      "source": [
        "best_params = lgb_random.best_params_\n",
        "print(best_params)"
      ],
      "metadata": {
        "colab": {
          "base_uri": "https://localhost:8080/"
        },
        "id": "MPVrXRLbXwBl",
        "outputId": "d14c01e4-13f1-499f-ac05-69846ac90129"
      },
      "execution_count": 528,
      "outputs": [
        {
          "output_type": "stream",
          "name": "stdout",
          "text": [
            "{'colsample_bytree': 0.44583275285359114, 'learning_rate': 0.09997491581800289, 'max_depth': 12, 'min_child_weight': 1.7323522915498704, 'n_estimators': 1323, 'num_leaves': 123}\n"
          ]
        }
      ]
    },
    {
      "cell_type": "code",
      "source": [
        "model = LGBMRegressor(**best_params, subsample=0.9, random_state=42, n_jobs=-1)\n",
        "model.fit(X_train, y_train)"
      ],
      "metadata": {
        "colab": {
          "base_uri": "https://localhost:8080/"
        },
        "id": "wMDZKUNeX0F1",
        "outputId": "da6baec5-84a4-4287-cf7f-967fece64412"
      },
      "execution_count": 529,
      "outputs": [
        {
          "output_type": "execute_result",
          "data": {
            "text/plain": [
              "LGBMRegressor(colsample_bytree=0.44583275285359114,\n",
              "              learning_rate=0.09997491581800289, max_depth=12,\n",
              "              min_child_weight=1.7323522915498704, n_estimators=1323,\n",
              "              num_leaves=123, random_state=42, subsample=0.9)"
            ]
          },
          "metadata": {},
          "execution_count": 529
        }
      ]
    },
    {
      "cell_type": "code",
      "source": [
        "y_pred = model.predict(X_test)\n",
        "print('Train RMSLE:', np.sqrt(mean_squared_error(y_test, y_pred)))\n",
        "predlgm = model.predict(submission2)"
      ],
      "metadata": {
        "colab": {
          "base_uri": "https://localhost:8080/"
        },
        "id": "dH6ZlaAjX8Hp",
        "outputId": "4fd54904-d9a6-46a8-a187-27b2bbc995ea"
      },
      "execution_count": 530,
      "outputs": [
        {
          "output_type": "stream",
          "name": "stdout",
          "text": [
            "Train RMSLE: 0.49807267883584483\n"
          ]
        }
      ]
    },
    {
      "cell_type": "code",
      "source": [
        "submission_final['price'] = np.expm1(predlgm)\n",
        "submission_final.to_csv(\"predictionResult.csv\", index=False)"
      ],
      "metadata": {
        "id": "ZOeqiSd_mPue"
      },
      "execution_count": 531,
      "outputs": []
    },
    {
      "cell_type": "code",
      "source": [
        "df=pd.read_csv('predictionResult.csv')"
      ],
      "metadata": {
        "id": "eWzkDj1Omm0t"
      },
      "execution_count": 532,
      "outputs": []
    },
    {
      "cell_type": "code",
      "source": [
        "df.shape"
      ],
      "metadata": {
        "colab": {
          "base_uri": "https://localhost:8080/"
        },
        "id": "Jqdj9oyGmtM6",
        "outputId": "46bafa69-47b3-4d3c-ba8d-8760ac6a1745"
      },
      "execution_count": 533,
      "outputs": [
        {
          "output_type": "execute_result",
          "data": {
            "text/plain": [
              "(31789, 2)"
            ]
          },
          "metadata": {},
          "execution_count": 533
        }
      ]
    },
    {
      "cell_type": "code",
      "source": [
        "df.head(5)"
      ],
      "metadata": {
        "colab": {
          "base_uri": "https://localhost:8080/",
          "height": 206
        },
        "id": "ErPtLrGsm0We",
        "outputId": "0a7dac61-1574-4bca-ea99-2b0f34f7185d"
      },
      "execution_count": 534,
      "outputs": [
        {
          "output_type": "execute_result",
          "data": {
            "text/plain": [
              "    id      price\n",
              "0   46  18.680696\n",
              "1   88  33.057648\n",
              "2  212  90.668775\n",
              "3  289  43.474471\n",
              "4  299  49.169772"
            ],
            "text/html": [
              "\n",
              "  <div id=\"df-9766de24-5e82-45cb-b6a9-461893aac427\">\n",
              "    <div class=\"colab-df-container\">\n",
              "      <div>\n",
              "<style scoped>\n",
              "    .dataframe tbody tr th:only-of-type {\n",
              "        vertical-align: middle;\n",
              "    }\n",
              "\n",
              "    .dataframe tbody tr th {\n",
              "        vertical-align: top;\n",
              "    }\n",
              "\n",
              "    .dataframe thead th {\n",
              "        text-align: right;\n",
              "    }\n",
              "</style>\n",
              "<table border=\"1\" class=\"dataframe\">\n",
              "  <thead>\n",
              "    <tr style=\"text-align: right;\">\n",
              "      <th></th>\n",
              "      <th>id</th>\n",
              "      <th>price</th>\n",
              "    </tr>\n",
              "  </thead>\n",
              "  <tbody>\n",
              "    <tr>\n",
              "      <th>0</th>\n",
              "      <td>46</td>\n",
              "      <td>18.680696</td>\n",
              "    </tr>\n",
              "    <tr>\n",
              "      <th>1</th>\n",
              "      <td>88</td>\n",
              "      <td>33.057648</td>\n",
              "    </tr>\n",
              "    <tr>\n",
              "      <th>2</th>\n",
              "      <td>212</td>\n",
              "      <td>90.668775</td>\n",
              "    </tr>\n",
              "    <tr>\n",
              "      <th>3</th>\n",
              "      <td>289</td>\n",
              "      <td>43.474471</td>\n",
              "    </tr>\n",
              "    <tr>\n",
              "      <th>4</th>\n",
              "      <td>299</td>\n",
              "      <td>49.169772</td>\n",
              "    </tr>\n",
              "  </tbody>\n",
              "</table>\n",
              "</div>\n",
              "      <button class=\"colab-df-convert\" onclick=\"convertToInteractive('df-9766de24-5e82-45cb-b6a9-461893aac427')\"\n",
              "              title=\"Convert this dataframe to an interactive table.\"\n",
              "              style=\"display:none;\">\n",
              "        \n",
              "  <svg xmlns=\"http://www.w3.org/2000/svg\" height=\"24px\"viewBox=\"0 0 24 24\"\n",
              "       width=\"24px\">\n",
              "    <path d=\"M0 0h24v24H0V0z\" fill=\"none\"/>\n",
              "    <path d=\"M18.56 5.44l.94 2.06.94-2.06 2.06-.94-2.06-.94-.94-2.06-.94 2.06-2.06.94zm-11 1L8.5 8.5l.94-2.06 2.06-.94-2.06-.94L8.5 2.5l-.94 2.06-2.06.94zm10 10l.94 2.06.94-2.06 2.06-.94-2.06-.94-.94-2.06-.94 2.06-2.06.94z\"/><path d=\"M17.41 7.96l-1.37-1.37c-.4-.4-.92-.59-1.43-.59-.52 0-1.04.2-1.43.59L10.3 9.45l-7.72 7.72c-.78.78-.78 2.05 0 2.83L4 21.41c.39.39.9.59 1.41.59.51 0 1.02-.2 1.41-.59l7.78-7.78 2.81-2.81c.8-.78.8-2.07 0-2.86zM5.41 20L4 18.59l7.72-7.72 1.47 1.35L5.41 20z\"/>\n",
              "  </svg>\n",
              "      </button>\n",
              "      \n",
              "  <style>\n",
              "    .colab-df-container {\n",
              "      display:flex;\n",
              "      flex-wrap:wrap;\n",
              "      gap: 12px;\n",
              "    }\n",
              "\n",
              "    .colab-df-convert {\n",
              "      background-color: #E8F0FE;\n",
              "      border: none;\n",
              "      border-radius: 50%;\n",
              "      cursor: pointer;\n",
              "      display: none;\n",
              "      fill: #1967D2;\n",
              "      height: 32px;\n",
              "      padding: 0 0 0 0;\n",
              "      width: 32px;\n",
              "    }\n",
              "\n",
              "    .colab-df-convert:hover {\n",
              "      background-color: #E2EBFA;\n",
              "      box-shadow: 0px 1px 2px rgba(60, 64, 67, 0.3), 0px 1px 3px 1px rgba(60, 64, 67, 0.15);\n",
              "      fill: #174EA6;\n",
              "    }\n",
              "\n",
              "    [theme=dark] .colab-df-convert {\n",
              "      background-color: #3B4455;\n",
              "      fill: #D2E3FC;\n",
              "    }\n",
              "\n",
              "    [theme=dark] .colab-df-convert:hover {\n",
              "      background-color: #434B5C;\n",
              "      box-shadow: 0px 1px 3px 1px rgba(0, 0, 0, 0.15);\n",
              "      filter: drop-shadow(0px 1px 2px rgba(0, 0, 0, 0.3));\n",
              "      fill: #FFFFFF;\n",
              "    }\n",
              "  </style>\n",
              "\n",
              "      <script>\n",
              "        const buttonEl =\n",
              "          document.querySelector('#df-9766de24-5e82-45cb-b6a9-461893aac427 button.colab-df-convert');\n",
              "        buttonEl.style.display =\n",
              "          google.colab.kernel.accessAllowed ? 'block' : 'none';\n",
              "\n",
              "        async function convertToInteractive(key) {\n",
              "          const element = document.querySelector('#df-9766de24-5e82-45cb-b6a9-461893aac427');\n",
              "          const dataTable =\n",
              "            await google.colab.kernel.invokeFunction('convertToInteractive',\n",
              "                                                     [key], {});\n",
              "          if (!dataTable) return;\n",
              "\n",
              "          const docLinkHtml = 'Like what you see? Visit the ' +\n",
              "            '<a target=\"_blank\" href=https://colab.research.google.com/notebooks/data_table.ipynb>data table notebook</a>'\n",
              "            + ' to learn more about interactive tables.';\n",
              "          element.innerHTML = '';\n",
              "          dataTable['output_type'] = 'display_data';\n",
              "          await google.colab.output.renderOutput(dataTable, element);\n",
              "          const docLink = document.createElement('div');\n",
              "          docLink.innerHTML = docLinkHtml;\n",
              "          element.appendChild(docLink);\n",
              "        }\n",
              "      </script>\n",
              "    </div>\n",
              "  </div>\n",
              "  "
            ]
          },
          "metadata": {},
          "execution_count": 534
        }
      ]
    },
    {
      "cell_type": "markdown",
      "source": [
        "# **7. Summary :**"
      ],
      "metadata": {
        "id": "Mvl7z1_Gn4K-"
      }
    },
    {
      "cell_type": "code",
      "source": [
        "from prettytable import PrettyTable\n",
        "    \n",
        "x = PrettyTable()\n",
        "\n",
        "x.field_names = [\"Model\", \"HyperParameters used\",  \"RMSLE\"]\n",
        "\n",
        "x.add_row([\"Ridge Regression\", \"alpha\", 0.499])\n",
        "x.add_row([\"SVM Regression\", \"C parameter\", 0.620])\n",
        "x.add_row([\"Light GBM Regressor\",\"learning_rate, n_estimators , num_leaves , max_depth , min_child_weight , colsample_bytree\" ,   0.498])\n",
        "\n",
        "\n",
        "print(x)"
      ],
      "metadata": {
        "colab": {
          "base_uri": "https://localhost:8080/"
        },
        "id": "SLXJsG-roDT-",
        "outputId": "ff816f88-cebd-47e0-a64a-bd61892db9fd"
      },
      "execution_count": 536,
      "outputs": [
        {
          "output_type": "stream",
          "name": "stdout",
          "text": [
            "+---------------------+--------------------------------------------------------------------------------------------+-------+\n",
            "|        Model        |                                    HyperParameters used                                    | RMSLE |\n",
            "+---------------------+--------------------------------------------------------------------------------------------+-------+\n",
            "|   Ridge Regression  |                                           alpha                                            | 0.499 |\n",
            "|    SVM Regression   |                                        C parameter                                         |  0.62 |\n",
            "| Light GBM Regressor | learning_rate, n_estimators , num_leaves , max_depth , min_child_weight , colsample_bytree | 0.498 |\n",
            "+---------------------+--------------------------------------------------------------------------------------------+-------+\n"
          ]
        }
      ]
    },
    {
      "cell_type": "markdown",
      "source": [
        "# **8. Conclusion & Future work**"
      ],
      "metadata": {
        "id": "u3kZ2Xp9ha0j"
      }
    },
    {
      "cell_type": "markdown",
      "source": [
        "- Light GBM Regression is give best result (RMSLE=0.498) amoung all the above models.\n",
        "- In order to get more accurate predictions, we should try Deep Learning models."
      ],
      "metadata": {
        "id": "F1__TBgZhlOe"
      }
    }
  ]
}